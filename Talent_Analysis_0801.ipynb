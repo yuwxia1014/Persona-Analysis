{
 "cells": [
  {
   "cell_type": "markdown",
   "metadata": {},
   "source": [
    "# From Interview to Active Persona Analysis\n",
    "*Created on 2018/07/26   Summer*  \n",
    "*Updated on 2018/08/01*"
   ]
  },
  {
   "cell_type": "markdown",
   "metadata": {},
   "source": [
    "---\n",
    "## Some Explanations\n",
    "\n",
    "- Since the average time from interview to sign contract recently is 3 days(from previous analysis, and by asking TA), so the data are based on interview date, which is 3 days from today (June 31).\n",
    "- All data are extracted from superset, from June 22 2018, the day we have talent_event table in naboo.\n",
    "- Open to any suggestions\n",
    "\n",
    "\n",
    "## Workflow\n",
    "1. Assumptions and oberservations.\n",
    "2. Wrangle, prepare, cleanse the data.\n",
    "3. Analyze, identify patterns, and explore the data.\n",
    "4. Model, predict and solve the problem.\n",
    "5. Visualize, report, and present the problem solving steps and final solution.\n",
    "\n"
   ]
  },
  {
   "cell_type": "code",
   "execution_count": 474,
   "metadata": {},
   "outputs": [],
   "source": [
    "# data analysis and wrangling\n",
    "import pandas as pd\n",
    "import numpy as np\n",
    "import random as rnd\n",
    "import plotly\n",
    "import plotly.plotly as py\n",
    "import plotly.graph_objs as go\n",
    "# visualization\n",
    "import seaborn as sns\n",
    "import matplotlib.pyplot as plt\n",
    "%matplotlib inline\n",
    "# machine learning\n",
    "from sklearn.linear_model import LogisticRegression\n",
    "from sklearn.svm import SVC, LinearSVC\n",
    "from sklearn.ensemble import RandomForestClassifier\n",
    "from sklearn.neighbors import KNeighborsClassifier\n",
    "from sklearn.naive_bayes import GaussianNB\n",
    "from sklearn.linear_model import Perceptron\n",
    "from sklearn.linear_model import SGDClassifier\n",
    "from sklearn.tree import DecisionTreeClassifier\n",
    "from sklearn import datasets, linear_model\n",
    "from sklearn.model_selection import train_test_split\n",
    "sns.set(style=\"white\")\n",
    "sns.set(style=\"whitegrid\", color_codes=True)"
   ]
  },
  {
   "cell_type": "markdown",
   "metadata": {},
   "source": [
    "## Acquire data"
   ]
  },
  {
   "cell_type": "code",
   "execution_count": 475,
   "metadata": {},
   "outputs": [
    {
     "data": {
      "text/plain": [
       "(821, 205)"
      ]
     },
     "execution_count": 475,
     "metadata": {},
     "output_type": "execute_result"
    }
   ],
   "source": [
    "combine = pd.read_csv('/Users/yuwei/Desktop/LoopApps/python code/Persona Analysis/analysis0731.csv')\n",
    "combine = combine.replace('UNKNOWN', np.nan)\n",
    "\n",
    "np.random.seed(1234)\n",
    "chosen_idx = np.random.choice(len(combine), replace=False, size=round(len(combine)*0.8))\n",
    "mask = np.array([(i in chosen_idx) for i in range(len(combine))])\n",
    "\n",
    "train_df = combine[mask]\n",
    "test_df = combine[~mask]\n",
    "len(train_df),len(test_df)\n",
    "#---- WHAT'S THE DIF BETWEEN LEN AND SHAPE\n"
   ]
  },
  {
   "cell_type": "markdown",
   "metadata": {},
   "source": [
    "## Analyze by describing data\n",
    "\n",
    "**Which features are available in the dataset?**\n"
   ]
  },
  {
   "cell_type": "code",
   "execution_count": 476,
   "metadata": {},
   "outputs": [
    {
     "name": "stdout",
     "output_type": "stream",
     "text": [
      "['user_id' 'social_media_followers_count' 'social_follower_cat'\n",
      " 'talent_categories' 'status' 'manager_id' 'interviewed_date'\n",
      " 'signed_date' 'int_sign_duration' 'active' 'source' 'sent'\n",
      " 'inserted_date_pst' 'age' 'age_group' 'state' 'country' 'gender'\n",
      " 'followers_count' 'video_int_dur' 'firework_follower_cat' 'time_zone'\n",
      " 'lat' 'long' 'potential' 'categories_count' 'first_category'\n",
      " 'second_category' 'third_category' 'fourth_category' 'fifth_category']\n"
     ]
    }
   ],
   "source": [
    "print(train_df.columns.values)"
   ]
  },
  {
   "cell_type": "markdown",
   "metadata": {},
   "source": [
    "**Which features are categorical?**\n",
    "\n",
    "- *Categorical*: 'sent', 'active' and 'gender'.    \n",
    "\n",
    "- *Ordinal*: 'ta_name', 'first_category', 'second_category', 'third_category', 'fourth_category' 'fifth_category', 'status', 'age_group', 'country', 'state', 'inserted_date_pst' , 'source', 'social_follower_cat', 'firework_follower_cat' and 'categories_count'\n",
    "\n",
    "        \n",
    "**Which features are numerical?**\n",
    "\n",
    "- *Continous*: 'social_media_followers_count', 'followers_count', 'age', 'lat' and 'long'"
   ]
  },
  {
   "cell_type": "code",
   "execution_count": 477,
   "metadata": {},
   "outputs": [
    {
     "data": {
      "text/html": [
       "<div>\n",
       "<style scoped>\n",
       "    .dataframe tbody tr th:only-of-type {\n",
       "        vertical-align: middle;\n",
       "    }\n",
       "\n",
       "    .dataframe tbody tr th {\n",
       "        vertical-align: top;\n",
       "    }\n",
       "\n",
       "    .dataframe thead th {\n",
       "        text-align: right;\n",
       "    }\n",
       "</style>\n",
       "<table border=\"1\" class=\"dataframe\">\n",
       "  <thead>\n",
       "    <tr style=\"text-align: right;\">\n",
       "      <th></th>\n",
       "      <th>user_id</th>\n",
       "      <th>social_media_followers_count</th>\n",
       "      <th>social_follower_cat</th>\n",
       "      <th>talent_categories</th>\n",
       "      <th>status</th>\n",
       "      <th>manager_id</th>\n",
       "      <th>interviewed_date</th>\n",
       "      <th>signed_date</th>\n",
       "      <th>int_sign_duration</th>\n",
       "      <th>active</th>\n",
       "      <th>...</th>\n",
       "      <th>time_zone</th>\n",
       "      <th>lat</th>\n",
       "      <th>long</th>\n",
       "      <th>potential</th>\n",
       "      <th>categories_count</th>\n",
       "      <th>first_category</th>\n",
       "      <th>second_category</th>\n",
       "      <th>third_category</th>\n",
       "      <th>fourth_category</th>\n",
       "      <th>fifth_category</th>\n",
       "    </tr>\n",
       "  </thead>\n",
       "  <tbody>\n",
       "    <tr>\n",
       "      <th>1021</th>\n",
       "      <td>196488</td>\n",
       "      <td>1200.0</td>\n",
       "      <td>1000-3000</td>\n",
       "      <td>[\"comedy\"]</td>\n",
       "      <td>active_talent</td>\n",
       "      <td>47.0</td>\n",
       "      <td>6/28/18</td>\n",
       "      <td>7/1/18</td>\n",
       "      <td>3.0</td>\n",
       "      <td>1</td>\n",
       "      <td>...</td>\n",
       "      <td>America/New_York</td>\n",
       "      <td>27.4373</td>\n",
       "      <td>-82.5775</td>\n",
       "      <td>0</td>\n",
       "      <td>1.0</td>\n",
       "      <td>comedy</td>\n",
       "      <td>NaN</td>\n",
       "      <td>NaN</td>\n",
       "      <td>NaN</td>\n",
       "      <td>NaN</td>\n",
       "    </tr>\n",
       "    <tr>\n",
       "      <th>1022</th>\n",
       "      <td>151386</td>\n",
       "      <td>81800.0</td>\n",
       "      <td>&gt;20000</td>\n",
       "      <td>[\"performance\"]</td>\n",
       "      <td>active_talent</td>\n",
       "      <td>47.0</td>\n",
       "      <td>5/24/18</td>\n",
       "      <td>6/1/18</td>\n",
       "      <td>8.0</td>\n",
       "      <td>1</td>\n",
       "      <td>...</td>\n",
       "      <td>America/Los_Angeles</td>\n",
       "      <td>34.0995</td>\n",
       "      <td>-117.5808</td>\n",
       "      <td>0</td>\n",
       "      <td>1.0</td>\n",
       "      <td>performance</td>\n",
       "      <td>NaN</td>\n",
       "      <td>NaN</td>\n",
       "      <td>NaN</td>\n",
       "      <td>NaN</td>\n",
       "    </tr>\n",
       "    <tr>\n",
       "      <th>1023</th>\n",
       "      <td>9765</td>\n",
       "      <td>2095.0</td>\n",
       "      <td>1000-3000</td>\n",
       "      <td>[\"fashion\"]</td>\n",
       "      <td>active_talent</td>\n",
       "      <td>47.0</td>\n",
       "      <td>6/4/18</td>\n",
       "      <td>7/4/18</td>\n",
       "      <td>30.0</td>\n",
       "      <td>1</td>\n",
       "      <td>...</td>\n",
       "      <td>Europe/Rome</td>\n",
       "      <td>43.1479</td>\n",
       "      <td>12.1097</td>\n",
       "      <td>0</td>\n",
       "      <td>1.0</td>\n",
       "      <td>fashion</td>\n",
       "      <td>NaN</td>\n",
       "      <td>NaN</td>\n",
       "      <td>NaN</td>\n",
       "      <td>NaN</td>\n",
       "    </tr>\n",
       "    <tr>\n",
       "      <th>1024</th>\n",
       "      <td>293446</td>\n",
       "      <td>10727.0</td>\n",
       "      <td>10000-20000</td>\n",
       "      <td>[\"performance\"]</td>\n",
       "      <td>active_talent</td>\n",
       "      <td>223391.0</td>\n",
       "      <td>7/4/18</td>\n",
       "      <td>7/30/18</td>\n",
       "      <td>26.0</td>\n",
       "      <td>1</td>\n",
       "      <td>...</td>\n",
       "      <td>America/Chicago</td>\n",
       "      <td>29.9156</td>\n",
       "      <td>-95.6491</td>\n",
       "      <td>0</td>\n",
       "      <td>1.0</td>\n",
       "      <td>performance</td>\n",
       "      <td>NaN</td>\n",
       "      <td>NaN</td>\n",
       "      <td>NaN</td>\n",
       "      <td>NaN</td>\n",
       "    </tr>\n",
       "    <tr>\n",
       "      <th>1025</th>\n",
       "      <td>297055</td>\n",
       "      <td>316000.0</td>\n",
       "      <td>&gt;20000</td>\n",
       "      <td>[\"sport\"]</td>\n",
       "      <td>active_talent</td>\n",
       "      <td>33156.0</td>\n",
       "      <td>7/26/18</td>\n",
       "      <td>7/27/18</td>\n",
       "      <td>1.0</td>\n",
       "      <td>1</td>\n",
       "      <td>...</td>\n",
       "      <td>America/Los_Angeles</td>\n",
       "      <td>47.5420</td>\n",
       "      <td>-122.3123</td>\n",
       "      <td>0</td>\n",
       "      <td>1.0</td>\n",
       "      <td>sport</td>\n",
       "      <td>NaN</td>\n",
       "      <td>NaN</td>\n",
       "      <td>NaN</td>\n",
       "      <td>NaN</td>\n",
       "    </tr>\n",
       "  </tbody>\n",
       "</table>\n",
       "<p>5 rows × 31 columns</p>\n",
       "</div>"
      ],
      "text/plain": [
       "      user_id  social_media_followers_count social_follower_cat  \\\n",
       "1021   196488                        1200.0           1000-3000   \n",
       "1022   151386                       81800.0              >20000   \n",
       "1023     9765                        2095.0           1000-3000   \n",
       "1024   293446                       10727.0         10000-20000   \n",
       "1025   297055                      316000.0              >20000   \n",
       "\n",
       "     talent_categories         status  manager_id interviewed_date  \\\n",
       "1021        [\"comedy\"]  active_talent        47.0          6/28/18   \n",
       "1022   [\"performance\"]  active_talent        47.0          5/24/18   \n",
       "1023       [\"fashion\"]  active_talent        47.0           6/4/18   \n",
       "1024   [\"performance\"]  active_talent    223391.0           7/4/18   \n",
       "1025         [\"sport\"]  active_talent     33156.0          7/26/18   \n",
       "\n",
       "     signed_date  int_sign_duration  active       ...        \\\n",
       "1021      7/1/18                3.0       1       ...         \n",
       "1022      6/1/18                8.0       1       ...         \n",
       "1023      7/4/18               30.0       1       ...         \n",
       "1024     7/30/18               26.0       1       ...         \n",
       "1025     7/27/18                1.0       1       ...         \n",
       "\n",
       "                time_zone      lat      long  potential categories_count  \\\n",
       "1021     America/New_York  27.4373  -82.5775          0              1.0   \n",
       "1022  America/Los_Angeles  34.0995 -117.5808          0              1.0   \n",
       "1023          Europe/Rome  43.1479   12.1097          0              1.0   \n",
       "1024      America/Chicago  29.9156  -95.6491          0              1.0   \n",
       "1025  America/Los_Angeles  47.5420 -122.3123          0              1.0   \n",
       "\n",
       "     first_category second_category third_category  fourth_category  \\\n",
       "1021         comedy             NaN            NaN              NaN   \n",
       "1022    performance             NaN            NaN              NaN   \n",
       "1023        fashion             NaN            NaN              NaN   \n",
       "1024    performance             NaN            NaN              NaN   \n",
       "1025          sport             NaN            NaN              NaN   \n",
       "\n",
       "      fifth_category  \n",
       "1021             NaN  \n",
       "1022             NaN  \n",
       "1023             NaN  \n",
       "1024             NaN  \n",
       "1025             NaN  \n",
       "\n",
       "[5 rows x 31 columns]"
      ]
     },
     "execution_count": 477,
     "metadata": {},
     "output_type": "execute_result"
    }
   ],
   "source": [
    "# preview the data\n",
    "train_df.tail()"
   ]
  },
  {
   "cell_type": "markdown",
   "metadata": {},
   "source": [
    "**Which features contain blank, null or empty values?**\n"
   ]
  },
  {
   "cell_type": "code",
   "execution_count": 478,
   "metadata": {},
   "outputs": [
    {
     "name": "stdout",
     "output_type": "stream",
     "text": [
      "<class 'pandas.core.frame.DataFrame'>\n",
      "Int64Index: 821 entries, 0 to 1025\n",
      "Data columns (total 31 columns):\n",
      "user_id                         821 non-null int64\n",
      "social_media_followers_count    811 non-null float64\n",
      "social_follower_cat             811 non-null object\n",
      "talent_categories               760 non-null object\n",
      "status                          818 non-null object\n",
      "manager_id                      818 non-null float64\n",
      "interviewed_date                821 non-null object\n",
      "signed_date                     468 non-null object\n",
      "int_sign_duration               468 non-null float64\n",
      "active                          821 non-null int64\n",
      "source                          821 non-null object\n",
      "sent                            821 non-null int64\n",
      "inserted_date_pst               819 non-null object\n",
      "age                             750 non-null float64\n",
      "age_group                       750 non-null object\n",
      "state                           654 non-null object\n",
      "country                         819 non-null object\n",
      "gender                          795 non-null object\n",
      "followers_count                 819 non-null float64\n",
      "video_int_dur                   743 non-null float64\n",
      "firework_follower_cat           819 non-null object\n",
      "time_zone                       800 non-null object\n",
      "lat                             566 non-null float64\n",
      "long                            566 non-null float64\n",
      "potential                       821 non-null int64\n",
      "categories_count                760 non-null float64\n",
      "first_category                  760 non-null object\n",
      "second_category                 49 non-null object\n",
      "third_category                  15 non-null object\n",
      "fourth_category                 5 non-null object\n",
      "fifth_category                  1 non-null object\n",
      "dtypes: float64(9), int64(4), object(18)\n",
      "memory usage: 205.2+ KB\n"
     ]
    }
   ],
   "source": [
    "train_df.info()"
   ]
  },
  {
   "cell_type": "markdown",
   "metadata": {},
   "source": [
    "**What is the distribution of numerical feature values across the samples?**  \n",
    "***And some interesting findings***\n",
    "\n",
    "- **Total samples** are 821.\n",
    "- **Sent** is a categorical feature with 0 or 1 values. 1 means contract sent.\n",
    "- **Active** is a categorical feature with 0 or 1 values.\n",
    "- From those we interviewed from June 22, around 58.5% become active(including potentials).\n",
    "- If we seperate **potential or not**, cvr for potential become active is 55%(calculated below), cvr of normal ppl we scripted become active is 66%. Is that because we haven't assgin them to TA?\n",
    "- Ppl's **number of social media follower** varies a lot, median is around 4300.\n",
    "- Ppl's **number of firework follower** also varies a lot, median is 9, but max is around 5300, which **varies** a lot\n",
    "- Most of them have 1 **category**.\n",
    "- Average **age** of ppl we interviewed is 25. \n",
    "- Median **duration from interview to sign contract** is 6, but recently we improved a lot.\n",
    "- Median **upload first video to interview** is 0, which means half ppl upload video before taking interview, or ppl upload video immediately after interview.\n",
    "- Currently, from ppl we interviewed, 2% comes from potential."
   ]
  },
  {
   "cell_type": "code",
   "execution_count": 479,
   "metadata": {},
   "outputs": [
    {
     "data": {
      "text/html": [
       "<div>\n",
       "<style scoped>\n",
       "    .dataframe tbody tr th:only-of-type {\n",
       "        vertical-align: middle;\n",
       "    }\n",
       "\n",
       "    .dataframe tbody tr th {\n",
       "        vertical-align: top;\n",
       "    }\n",
       "\n",
       "    .dataframe thead th {\n",
       "        text-align: right;\n",
       "    }\n",
       "</style>\n",
       "<table border=\"1\" class=\"dataframe\">\n",
       "  <thead>\n",
       "    <tr style=\"text-align: right;\">\n",
       "      <th></th>\n",
       "      <th>user_id</th>\n",
       "      <th>social_media_followers_count</th>\n",
       "      <th>manager_id</th>\n",
       "      <th>int_sign_duration</th>\n",
       "      <th>active</th>\n",
       "      <th>sent</th>\n",
       "      <th>age</th>\n",
       "      <th>followers_count</th>\n",
       "      <th>video_int_dur</th>\n",
       "      <th>lat</th>\n",
       "      <th>long</th>\n",
       "      <th>potential</th>\n",
       "      <th>categories_count</th>\n",
       "    </tr>\n",
       "  </thead>\n",
       "  <tbody>\n",
       "    <tr>\n",
       "      <th>count</th>\n",
       "      <td>821.000000</td>\n",
       "      <td>8.110000e+02</td>\n",
       "      <td>818.000000</td>\n",
       "      <td>468.000000</td>\n",
       "      <td>821.000000</td>\n",
       "      <td>821.000000</td>\n",
       "      <td>750.000000</td>\n",
       "      <td>819.000000</td>\n",
       "      <td>743.000000</td>\n",
       "      <td>566.000000</td>\n",
       "      <td>566.000000</td>\n",
       "      <td>821.000000</td>\n",
       "      <td>760.000000</td>\n",
       "    </tr>\n",
       "    <tr>\n",
       "      <th>mean</th>\n",
       "      <td>229507.794153</td>\n",
       "      <td>3.901451e+06</td>\n",
       "      <td>82774.836186</td>\n",
       "      <td>8.482906</td>\n",
       "      <td>0.568819</td>\n",
       "      <td>0.751523</td>\n",
       "      <td>26.165333</td>\n",
       "      <td>66.157509</td>\n",
       "      <td>-1.185734</td>\n",
       "      <td>35.992092</td>\n",
       "      <td>-88.067029</td>\n",
       "      <td>0.021924</td>\n",
       "      <td>1.092105</td>\n",
       "    </tr>\n",
       "    <tr>\n",
       "      <th>std</th>\n",
       "      <td>70661.966438</td>\n",
       "      <td>1.102167e+08</td>\n",
       "      <td>95636.446301</td>\n",
       "      <td>11.319845</td>\n",
       "      <td>0.495543</td>\n",
       "      <td>0.432394</td>\n",
       "      <td>7.754020</td>\n",
       "      <td>375.432922</td>\n",
       "      <td>9.597167</td>\n",
       "      <td>10.530598</td>\n",
       "      <td>39.841109</td>\n",
       "      <td>0.146526</td>\n",
       "      <td>0.396880</td>\n",
       "    </tr>\n",
       "    <tr>\n",
       "      <th>min</th>\n",
       "      <td>900.000000</td>\n",
       "      <td>1.600000e+01</td>\n",
       "      <td>47.000000</td>\n",
       "      <td>-16.000000</td>\n",
       "      <td>0.000000</td>\n",
       "      <td>0.000000</td>\n",
       "      <td>0.000000</td>\n",
       "      <td>0.000000</td>\n",
       "      <td>-60.000000</td>\n",
       "      <td>-33.918500</td>\n",
       "      <td>-158.173000</td>\n",
       "      <td>0.000000</td>\n",
       "      <td>1.000000</td>\n",
       "    </tr>\n",
       "    <tr>\n",
       "      <th>25%</th>\n",
       "      <td>223680.000000</td>\n",
       "      <td>1.591000e+03</td>\n",
       "      <td>2536.000000</td>\n",
       "      <td>4.000000</td>\n",
       "      <td>0.000000</td>\n",
       "      <td>1.000000</td>\n",
       "      <td>21.000000</td>\n",
       "      <td>2.000000</td>\n",
       "      <td>-1.000000</td>\n",
       "      <td>33.978300</td>\n",
       "      <td>-118.148600</td>\n",
       "      <td>0.000000</td>\n",
       "      <td>1.000000</td>\n",
       "    </tr>\n",
       "    <tr>\n",
       "      <th>50%</th>\n",
       "      <td>251174.000000</td>\n",
       "      <td>4.306000e+03</td>\n",
       "      <td>33156.000000</td>\n",
       "      <td>6.000000</td>\n",
       "      <td>1.000000</td>\n",
       "      <td>1.000000</td>\n",
       "      <td>25.000000</td>\n",
       "      <td>9.000000</td>\n",
       "      <td>0.000000</td>\n",
       "      <td>36.131100</td>\n",
       "      <td>-90.083450</td>\n",
       "      <td>0.000000</td>\n",
       "      <td>1.000000</td>\n",
       "    </tr>\n",
       "    <tr>\n",
       "      <th>75%</th>\n",
       "      <td>273104.000000</td>\n",
       "      <td>1.500000e+04</td>\n",
       "      <td>222515.000000</td>\n",
       "      <td>9.000000</td>\n",
       "      <td>1.000000</td>\n",
       "      <td>1.000000</td>\n",
       "      <td>30.000000</td>\n",
       "      <td>28.000000</td>\n",
       "      <td>2.000000</td>\n",
       "      <td>40.712100</td>\n",
       "      <td>-75.063900</td>\n",
       "      <td>0.000000</td>\n",
       "      <td>1.000000</td>\n",
       "    </tr>\n",
       "    <tr>\n",
       "      <th>max</th>\n",
       "      <td>299178.000000</td>\n",
       "      <td>3.138786e+09</td>\n",
       "      <td>245925.000000</td>\n",
       "      <td>109.000000</td>\n",
       "      <td>1.000000</td>\n",
       "      <td>1.000000</td>\n",
       "      <td>102.000000</td>\n",
       "      <td>5253.000000</td>\n",
       "      <td>67.000000</td>\n",
       "      <td>60.393000</td>\n",
       "      <td>151.198200</td>\n",
       "      <td>1.000000</td>\n",
       "      <td>5.000000</td>\n",
       "    </tr>\n",
       "  </tbody>\n",
       "</table>\n",
       "</div>"
      ],
      "text/plain": [
       "             user_id  social_media_followers_count     manager_id  \\\n",
       "count     821.000000                  8.110000e+02     818.000000   \n",
       "mean   229507.794153                  3.901451e+06   82774.836186   \n",
       "std     70661.966438                  1.102167e+08   95636.446301   \n",
       "min       900.000000                  1.600000e+01      47.000000   \n",
       "25%    223680.000000                  1.591000e+03    2536.000000   \n",
       "50%    251174.000000                  4.306000e+03   33156.000000   \n",
       "75%    273104.000000                  1.500000e+04  222515.000000   \n",
       "max    299178.000000                  3.138786e+09  245925.000000   \n",
       "\n",
       "       int_sign_duration      active        sent         age  followers_count  \\\n",
       "count         468.000000  821.000000  821.000000  750.000000       819.000000   \n",
       "mean            8.482906    0.568819    0.751523   26.165333        66.157509   \n",
       "std            11.319845    0.495543    0.432394    7.754020       375.432922   \n",
       "min           -16.000000    0.000000    0.000000    0.000000         0.000000   \n",
       "25%             4.000000    0.000000    1.000000   21.000000         2.000000   \n",
       "50%             6.000000    1.000000    1.000000   25.000000         9.000000   \n",
       "75%             9.000000    1.000000    1.000000   30.000000        28.000000   \n",
       "max           109.000000    1.000000    1.000000  102.000000      5253.000000   \n",
       "\n",
       "       video_int_dur         lat        long   potential  categories_count  \n",
       "count     743.000000  566.000000  566.000000  821.000000        760.000000  \n",
       "mean       -1.185734   35.992092  -88.067029    0.021924          1.092105  \n",
       "std         9.597167   10.530598   39.841109    0.146526          0.396880  \n",
       "min       -60.000000  -33.918500 -158.173000    0.000000          1.000000  \n",
       "25%        -1.000000   33.978300 -118.148600    0.000000          1.000000  \n",
       "50%         0.000000   36.131100  -90.083450    0.000000          1.000000  \n",
       "75%         2.000000   40.712100  -75.063900    0.000000          1.000000  \n",
       "max        67.000000   60.393000  151.198200    1.000000          5.000000  "
      ]
     },
     "execution_count": 479,
     "metadata": {},
     "output_type": "execute_result"
    }
   ],
   "source": [
    "train_df.describe()\n"
   ]
  },
  {
   "cell_type": "code",
   "execution_count": null,
   "metadata": {},
   "outputs": [],
   "source": []
  },
  {
   "cell_type": "markdown",
   "metadata": {},
   "source": [
    "**What is the distribution of categorical features in train group?**\n",
    "\n",
    "- There are 8 **categories**, 201+20+6+4+1=232 have \"lifestyle\" category.\n",
    "- **Gender** variable as two possible values with 56% female (top=female, freq=440/count=788).\n",
    "- There are 8 **status**, almost 58% became active talent.\n",
    "- 90% of ppl put their instagram url, which is defined as **source**. Now we have 5 sources: instagram, facebook, musically, youtube and others.\n",
    "- 5 **age groups**, 42% 18-24 years old (freq=314/count=747).\n",
    "- Almost 90% from USA, 37% from America/Los_Angeles time zone.\n",
    "- 6 **social media followers categories**, most ppl's followers are in 1000-3000 group.\n",
    "- **categories_count**, number of categories they belong to. \n",
    "- 5 **firework followers categories**, most of ppl's (70%) followers are less than 20.\n",
    "- **country**, majority of them are from US, almost 90%.\n",
    "- **state**, majority of them are from California, almost 37%.\n"
   ]
  },
  {
   "cell_type": "code",
   "execution_count": 480,
   "metadata": {},
   "outputs": [
    {
     "data": {
      "text/html": [
       "<div>\n",
       "<style scoped>\n",
       "    .dataframe tbody tr th:only-of-type {\n",
       "        vertical-align: middle;\n",
       "    }\n",
       "\n",
       "    .dataframe tbody tr th {\n",
       "        vertical-align: top;\n",
       "    }\n",
       "\n",
       "    .dataframe thead th {\n",
       "        text-align: right;\n",
       "    }\n",
       "</style>\n",
       "<table border=\"1\" class=\"dataframe\">\n",
       "  <thead>\n",
       "    <tr style=\"text-align: right;\">\n",
       "      <th></th>\n",
       "      <th>social_follower_cat</th>\n",
       "      <th>talent_categories</th>\n",
       "      <th>status</th>\n",
       "      <th>interviewed_date</th>\n",
       "      <th>signed_date</th>\n",
       "      <th>source</th>\n",
       "      <th>inserted_date_pst</th>\n",
       "      <th>age_group</th>\n",
       "      <th>state</th>\n",
       "      <th>country</th>\n",
       "      <th>gender</th>\n",
       "      <th>firework_follower_cat</th>\n",
       "      <th>time_zone</th>\n",
       "      <th>first_category</th>\n",
       "      <th>second_category</th>\n",
       "      <th>third_category</th>\n",
       "      <th>fourth_category</th>\n",
       "      <th>fifth_category</th>\n",
       "    </tr>\n",
       "  </thead>\n",
       "  <tbody>\n",
       "    <tr>\n",
       "      <th>count</th>\n",
       "      <td>811</td>\n",
       "      <td>760</td>\n",
       "      <td>818</td>\n",
       "      <td>821</td>\n",
       "      <td>468</td>\n",
       "      <td>821</td>\n",
       "      <td>819</td>\n",
       "      <td>750</td>\n",
       "      <td>654</td>\n",
       "      <td>819</td>\n",
       "      <td>795</td>\n",
       "      <td>819</td>\n",
       "      <td>800</td>\n",
       "      <td>760</td>\n",
       "      <td>49</td>\n",
       "      <td>15</td>\n",
       "      <td>5</td>\n",
       "      <td>1</td>\n",
       "    </tr>\n",
       "    <tr>\n",
       "      <th>unique</th>\n",
       "      <td>6</td>\n",
       "      <td>34</td>\n",
       "      <td>8</td>\n",
       "      <td>77</td>\n",
       "      <td>71</td>\n",
       "      <td>5</td>\n",
       "      <td>97</td>\n",
       "      <td>5</td>\n",
       "      <td>88</td>\n",
       "      <td>34</td>\n",
       "      <td>2</td>\n",
       "      <td>5</td>\n",
       "      <td>52</td>\n",
       "      <td>8</td>\n",
       "      <td>5</td>\n",
       "      <td>4</td>\n",
       "      <td>2</td>\n",
       "      <td>1</td>\n",
       "    </tr>\n",
       "    <tr>\n",
       "      <th>top</th>\n",
       "      <td>1000-3000</td>\n",
       "      <td>[\"performance\"]</td>\n",
       "      <td>active_talent</td>\n",
       "      <td>7/11/18</td>\n",
       "      <td>7/27/18</td>\n",
       "      <td>instagram</td>\n",
       "      <td>7/9/18</td>\n",
       "      <td>18-24</td>\n",
       "      <td>California</td>\n",
       "      <td>US</td>\n",
       "      <td>female</td>\n",
       "      <td>&lt;20</td>\n",
       "      <td>America/Los_Angeles</td>\n",
       "      <td>performance</td>\n",
       "      <td>lifestyle</td>\n",
       "      <td>lifestyle</td>\n",
       "      <td>lifestyle</td>\n",
       "      <td>lifestyle</td>\n",
       "    </tr>\n",
       "    <tr>\n",
       "      <th>freq</th>\n",
       "      <td>218</td>\n",
       "      <td>201</td>\n",
       "      <td>467</td>\n",
       "      <td>39</td>\n",
       "      <td>27</td>\n",
       "      <td>776</td>\n",
       "      <td>37</td>\n",
       "      <td>329</td>\n",
       "      <td>218</td>\n",
       "      <td>735</td>\n",
       "      <td>435</td>\n",
       "      <td>571</td>\n",
       "      <td>289</td>\n",
       "      <td>209</td>\n",
       "      <td>23</td>\n",
       "      <td>8</td>\n",
       "      <td>4</td>\n",
       "      <td>1</td>\n",
       "    </tr>\n",
       "  </tbody>\n",
       "</table>\n",
       "</div>"
      ],
      "text/plain": [
       "       social_follower_cat talent_categories         status interviewed_date  \\\n",
       "count                  811               760            818              821   \n",
       "unique                   6                34              8               77   \n",
       "top              1000-3000   [\"performance\"]  active_talent          7/11/18   \n",
       "freq                   218               201            467               39   \n",
       "\n",
       "       signed_date     source inserted_date_pst age_group       state country  \\\n",
       "count          468        821               819       750         654     819   \n",
       "unique          71          5                97         5          88      34   \n",
       "top        7/27/18  instagram            7/9/18     18-24  California      US   \n",
       "freq            27        776                37       329         218     735   \n",
       "\n",
       "        gender firework_follower_cat            time_zone first_category  \\\n",
       "count      795                   819                  800            760   \n",
       "unique       2                     5                   52              8   \n",
       "top     female                   <20  America/Los_Angeles    performance   \n",
       "freq       435                   571                  289            209   \n",
       "\n",
       "       second_category third_category fourth_category fifth_category  \n",
       "count               49             15               5              1  \n",
       "unique               5              4               2              1  \n",
       "top          lifestyle      lifestyle       lifestyle      lifestyle  \n",
       "freq                23              8               4              1  "
      ]
     },
     "execution_count": 480,
     "metadata": {},
     "output_type": "execute_result"
    }
   ],
   "source": [
    "train_df.describe(include=['O'])\n"
   ]
  },
  {
   "cell_type": "code",
   "execution_count": 481,
   "metadata": {},
   "outputs": [
    {
     "data": {
      "text/html": [
       "<div>\n",
       "<style scoped>\n",
       "    .dataframe tbody tr th:only-of-type {\n",
       "        vertical-align: middle;\n",
       "    }\n",
       "\n",
       "    .dataframe tbody tr th {\n",
       "        vertical-align: top;\n",
       "    }\n",
       "\n",
       "    .dataframe thead th {\n",
       "        text-align: right;\n",
       "    }\n",
       "</style>\n",
       "<table border=\"1\" class=\"dataframe\">\n",
       "  <thead>\n",
       "    <tr style=\"text-align: right;\">\n",
       "      <th></th>\n",
       "      <th>user_id</th>\n",
       "      <th>social_media_followers_count</th>\n",
       "      <th>manager_id</th>\n",
       "      <th>int_sign_duration</th>\n",
       "      <th>sent</th>\n",
       "      <th>age</th>\n",
       "      <th>followers_count</th>\n",
       "      <th>video_int_dur</th>\n",
       "      <th>lat</th>\n",
       "      <th>long</th>\n",
       "      <th>potential</th>\n",
       "      <th>categories_count</th>\n",
       "    </tr>\n",
       "    <tr>\n",
       "      <th>active</th>\n",
       "      <th></th>\n",
       "      <th></th>\n",
       "      <th></th>\n",
       "      <th></th>\n",
       "      <th></th>\n",
       "      <th></th>\n",
       "      <th></th>\n",
       "      <th></th>\n",
       "      <th></th>\n",
       "      <th></th>\n",
       "      <th></th>\n",
       "      <th></th>\n",
       "    </tr>\n",
       "  </thead>\n",
       "  <tbody>\n",
       "    <tr>\n",
       "      <th>0</th>\n",
       "      <td>242920.720339</td>\n",
       "      <td>9.061315e+06</td>\n",
       "      <td>76565.721591</td>\n",
       "      <td>7.846154</td>\n",
       "      <td>0.706215</td>\n",
       "      <td>26.310345</td>\n",
       "      <td>13.861190</td>\n",
       "      <td>-0.298561</td>\n",
       "      <td>36.173449</td>\n",
       "      <td>-90.123180</td>\n",
       "      <td>0.022599</td>\n",
       "      <td>1.078370</td>\n",
       "    </tr>\n",
       "    <tr>\n",
       "      <th>1</th>\n",
       "      <td>219340.394004</td>\n",
       "      <td>2.319361e+04</td>\n",
       "      <td>87464.982833</td>\n",
       "      <td>8.501099</td>\n",
       "      <td>0.785867</td>\n",
       "      <td>26.058005</td>\n",
       "      <td>105.772532</td>\n",
       "      <td>-1.716129</td>\n",
       "      <td>35.863333</td>\n",
       "      <td>-86.607224</td>\n",
       "      <td>0.021413</td>\n",
       "      <td>1.102041</td>\n",
       "    </tr>\n",
       "  </tbody>\n",
       "</table>\n",
       "</div>"
      ],
      "text/plain": [
       "              user_id  social_media_followers_count    manager_id  \\\n",
       "active                                                              \n",
       "0       242920.720339                  9.061315e+06  76565.721591   \n",
       "1       219340.394004                  2.319361e+04  87464.982833   \n",
       "\n",
       "        int_sign_duration      sent        age  followers_count  \\\n",
       "active                                                            \n",
       "0                7.846154  0.706215  26.310345        13.861190   \n",
       "1                8.501099  0.785867  26.058005       105.772532   \n",
       "\n",
       "        video_int_dur        lat       long  potential  categories_count  \n",
       "active                                                                    \n",
       "0           -0.298561  36.173449 -90.123180   0.022599          1.078370  \n",
       "1           -1.716129  35.863333 -86.607224   0.021413          1.102041  "
      ]
     },
     "execution_count": 481,
     "metadata": {},
     "output_type": "execute_result"
    }
   ],
   "source": [
    "# get a sense of the numbers across the two classes.\n",
    "train_df.groupby('active').mean()"
   ]
  },
  {
   "cell_type": "code",
   "execution_count": 482,
   "metadata": {},
   "outputs": [
    {
     "data": {
      "text/html": [
       "<div>\n",
       "<style scoped>\n",
       "    .dataframe tbody tr th:only-of-type {\n",
       "        vertical-align: middle;\n",
       "    }\n",
       "\n",
       "    .dataframe tbody tr th {\n",
       "        vertical-align: top;\n",
       "    }\n",
       "\n",
       "    .dataframe thead th {\n",
       "        text-align: right;\n",
       "    }\n",
       "</style>\n",
       "<table border=\"1\" class=\"dataframe\">\n",
       "  <thead>\n",
       "    <tr style=\"text-align: right;\">\n",
       "      <th></th>\n",
       "      <th>user_id</th>\n",
       "      <th>social_media_followers_count</th>\n",
       "      <th>manager_id</th>\n",
       "      <th>int_sign_duration</th>\n",
       "      <th>active</th>\n",
       "      <th>sent</th>\n",
       "      <th>age</th>\n",
       "      <th>followers_count</th>\n",
       "      <th>video_int_dur</th>\n",
       "      <th>lat</th>\n",
       "      <th>long</th>\n",
       "      <th>categories_count</th>\n",
       "    </tr>\n",
       "    <tr>\n",
       "      <th>potential</th>\n",
       "      <th></th>\n",
       "      <th></th>\n",
       "      <th></th>\n",
       "      <th></th>\n",
       "      <th></th>\n",
       "      <th></th>\n",
       "      <th></th>\n",
       "      <th></th>\n",
       "      <th></th>\n",
       "      <th></th>\n",
       "      <th></th>\n",
       "      <th></th>\n",
       "    </tr>\n",
       "  </thead>\n",
       "  <tbody>\n",
       "    <tr>\n",
       "      <th>0</th>\n",
       "      <td>230366.153176</td>\n",
       "      <td>3.979376e+06</td>\n",
       "      <td>83397.821250</td>\n",
       "      <td>8.597374</td>\n",
       "      <td>0.569116</td>\n",
       "      <td>0.748443</td>\n",
       "      <td>26.098226</td>\n",
       "      <td>65.410737</td>\n",
       "      <td>-0.813793</td>\n",
       "      <td>36.039026</td>\n",
       "      <td>-88.621183</td>\n",
       "      <td>1.087483</td>\n",
       "    </tr>\n",
       "    <tr>\n",
       "      <th>1</th>\n",
       "      <td>191215.444444</td>\n",
       "      <td>2.952975e+04</td>\n",
       "      <td>55086.611111</td>\n",
       "      <td>3.727273</td>\n",
       "      <td>0.555556</td>\n",
       "      <td>0.888889</td>\n",
       "      <td>29.058824</td>\n",
       "      <td>99.388889</td>\n",
       "      <td>-16.166667</td>\n",
       "      <td>33.995569</td>\n",
       "      <td>-64.494162</td>\n",
       "      <td>1.294118</td>\n",
       "    </tr>\n",
       "  </tbody>\n",
       "</table>\n",
       "</div>"
      ],
      "text/plain": [
       "                 user_id  social_media_followers_count    manager_id  \\\n",
       "potential                                                              \n",
       "0          230366.153176                  3.979376e+06  83397.821250   \n",
       "1          191215.444444                  2.952975e+04  55086.611111   \n",
       "\n",
       "           int_sign_duration    active      sent        age  followers_count  \\\n",
       "potential                                                                      \n",
       "0                   8.597374  0.569116  0.748443  26.098226        65.410737   \n",
       "1                   3.727273  0.555556  0.888889  29.058824        99.388889   \n",
       "\n",
       "           video_int_dur        lat       long  categories_count  \n",
       "potential                                                         \n",
       "0              -0.813793  36.039026 -88.621183          1.087483  \n",
       "1             -16.166667  33.995569 -64.494162          1.294118  "
      ]
     },
     "execution_count": 482,
     "metadata": {},
     "output_type": "execute_result"
    }
   ],
   "source": [
    "train_df.groupby('potential').mean()"
   ]
  },
  {
   "cell_type": "code",
   "execution_count": 483,
   "metadata": {},
   "outputs": [],
   "source": [
    "#train_df.groupby('age').mean()\n",
    "#-----how do we define age_group ??? (discuess with Edwin)"
   ]
  },
  {
   "cell_type": "code",
   "execution_count": 484,
   "metadata": {},
   "outputs": [
    {
     "data": {
      "text/html": [
       "<div>\n",
       "<style scoped>\n",
       "    .dataframe tbody tr th:only-of-type {\n",
       "        vertical-align: middle;\n",
       "    }\n",
       "\n",
       "    .dataframe tbody tr th {\n",
       "        vertical-align: top;\n",
       "    }\n",
       "\n",
       "    .dataframe thead th {\n",
       "        text-align: right;\n",
       "    }\n",
       "</style>\n",
       "<table border=\"1\" class=\"dataframe\">\n",
       "  <thead>\n",
       "    <tr style=\"text-align: right;\">\n",
       "      <th></th>\n",
       "      <th>user_id</th>\n",
       "      <th>social_media_followers_count</th>\n",
       "      <th>manager_id</th>\n",
       "      <th>int_sign_duration</th>\n",
       "      <th>active</th>\n",
       "      <th>sent</th>\n",
       "      <th>age</th>\n",
       "      <th>followers_count</th>\n",
       "      <th>video_int_dur</th>\n",
       "      <th>lat</th>\n",
       "      <th>long</th>\n",
       "      <th>potential</th>\n",
       "      <th>categories_count</th>\n",
       "    </tr>\n",
       "    <tr>\n",
       "      <th>age_group</th>\n",
       "      <th></th>\n",
       "      <th></th>\n",
       "      <th></th>\n",
       "      <th></th>\n",
       "      <th></th>\n",
       "      <th></th>\n",
       "      <th></th>\n",
       "      <th></th>\n",
       "      <th></th>\n",
       "      <th></th>\n",
       "      <th></th>\n",
       "      <th></th>\n",
       "      <th></th>\n",
       "    </tr>\n",
       "  </thead>\n",
       "  <tbody>\n",
       "    <tr>\n",
       "      <th>0-12</th>\n",
       "      <td>238619.454545</td>\n",
       "      <td>7.517945e+04</td>\n",
       "      <td>58453.909091</td>\n",
       "      <td>7.125000</td>\n",
       "      <td>0.636364</td>\n",
       "      <td>0.909091</td>\n",
       "      <td>7.272727</td>\n",
       "      <td>47.000000</td>\n",
       "      <td>-1.800000</td>\n",
       "      <td>21.606830</td>\n",
       "      <td>-43.628220</td>\n",
       "      <td>0.000000</td>\n",
       "      <td>1.454545</td>\n",
       "    </tr>\n",
       "    <tr>\n",
       "      <th>13-17</th>\n",
       "      <td>190902.254902</td>\n",
       "      <td>1.385141e+04</td>\n",
       "      <td>58802.607843</td>\n",
       "      <td>11.837838</td>\n",
       "      <td>0.764706</td>\n",
       "      <td>0.647059</td>\n",
       "      <td>16.862745</td>\n",
       "      <td>333.686275</td>\n",
       "      <td>-2.437500</td>\n",
       "      <td>37.268348</td>\n",
       "      <td>-81.207577</td>\n",
       "      <td>0.000000</td>\n",
       "      <td>1.060000</td>\n",
       "    </tr>\n",
       "    <tr>\n",
       "      <th>18-24</th>\n",
       "      <td>226353.778116</td>\n",
       "      <td>2.029229e+04</td>\n",
       "      <td>76153.960123</td>\n",
       "      <td>8.743455</td>\n",
       "      <td>0.580547</td>\n",
       "      <td>0.732523</td>\n",
       "      <td>22.167173</td>\n",
       "      <td>44.346505</td>\n",
       "      <td>-0.750831</td>\n",
       "      <td>35.832897</td>\n",
       "      <td>-83.851273</td>\n",
       "      <td>0.021277</td>\n",
       "      <td>1.110749</td>\n",
       "    </tr>\n",
       "    <tr>\n",
       "      <th>25-34</th>\n",
       "      <td>239044.137457</td>\n",
       "      <td>1.094849e+07</td>\n",
       "      <td>89178.364261</td>\n",
       "      <td>7.787097</td>\n",
       "      <td>0.522337</td>\n",
       "      <td>0.769759</td>\n",
       "      <td>29.381443</td>\n",
       "      <td>36.749141</td>\n",
       "      <td>-1.062257</td>\n",
       "      <td>36.022311</td>\n",
       "      <td>-95.606287</td>\n",
       "      <td>0.020619</td>\n",
       "      <td>1.086792</td>\n",
       "    </tr>\n",
       "    <tr>\n",
       "      <th>35+</th>\n",
       "      <td>234241.132353</td>\n",
       "      <td>1.960825e+04</td>\n",
       "      <td>105893.955882</td>\n",
       "      <td>8.186047</td>\n",
       "      <td>0.617647</td>\n",
       "      <td>0.852941</td>\n",
       "      <td>41.779412</td>\n",
       "      <td>52.602941</td>\n",
       "      <td>-1.492308</td>\n",
       "      <td>38.211948</td>\n",
       "      <td>-88.156877</td>\n",
       "      <td>0.058824</td>\n",
       "      <td>1.049180</td>\n",
       "    </tr>\n",
       "  </tbody>\n",
       "</table>\n",
       "</div>"
      ],
      "text/plain": [
       "                 user_id  social_media_followers_count     manager_id  \\\n",
       "age_group                                                               \n",
       "0-12       238619.454545                  7.517945e+04   58453.909091   \n",
       "13-17      190902.254902                  1.385141e+04   58802.607843   \n",
       "18-24      226353.778116                  2.029229e+04   76153.960123   \n",
       "25-34      239044.137457                  1.094849e+07   89178.364261   \n",
       "35+        234241.132353                  1.960825e+04  105893.955882   \n",
       "\n",
       "           int_sign_duration    active      sent        age  followers_count  \\\n",
       "age_group                                                                      \n",
       "0-12                7.125000  0.636364  0.909091   7.272727        47.000000   \n",
       "13-17              11.837838  0.764706  0.647059  16.862745       333.686275   \n",
       "18-24               8.743455  0.580547  0.732523  22.167173        44.346505   \n",
       "25-34               7.787097  0.522337  0.769759  29.381443        36.749141   \n",
       "35+                 8.186047  0.617647  0.852941  41.779412        52.602941   \n",
       "\n",
       "           video_int_dur        lat       long  potential  categories_count  \n",
       "age_group                                                                    \n",
       "0-12           -1.800000  21.606830 -43.628220   0.000000          1.454545  \n",
       "13-17          -2.437500  37.268348 -81.207577   0.000000          1.060000  \n",
       "18-24          -0.750831  35.832897 -83.851273   0.021277          1.110749  \n",
       "25-34          -1.062257  36.022311 -95.606287   0.020619          1.086792  \n",
       "35+            -1.492308  38.211948 -88.156877   0.058824          1.049180  "
      ]
     },
     "execution_count": 484,
     "metadata": {},
     "output_type": "execute_result"
    }
   ],
   "source": [
    "#CVR for each age group\n",
    "train_df.groupby('age_group').mean()\n"
   ]
  },
  {
   "cell_type": "markdown",
   "metadata": {},
   "source": [
    "## Analyze categorical variables\n"
   ]
  },
  {
   "cell_type": "markdown",
   "metadata": {},
   "source": [
    "###  First check our target, active or not"
   ]
  },
  {
   "cell_type": "code",
   "execution_count": 485,
   "metadata": {},
   "outputs": [
    {
     "data": {
      "image/png": "[encoded data removed]",
      "text/plain": [
       "<Figure size 432x288 with 1 Axes>"
      ]
     },
     "metadata": {},
     "output_type": "display_data"
    },
    {
     "data": {
      "text/plain": [
       "<Figure size 432x288 with 0 Axes>"
      ]
     },
     "metadata": {},
     "output_type": "display_data"
    }
   ],
   "source": [
    "sns.countplot(x='active', data= train_df, palette = 'hls',)\n",
    "plt.show()\n",
    "plt.savefig('count_active_plot')"
   ]
  },
  {
   "cell_type": "markdown",
   "metadata": {},
   "source": [
    "### Gender \n",
    "**Observations 1**\n",
    "\n",
    "The number of female is 10% more than male, which means are now targeting more on women. Does it mean female receive more contract than man, or what gender should we target more in the future?\n"
   ]
  },
  {
   "cell_type": "code",
   "execution_count": 486,
   "metadata": {},
   "outputs": [
    {
     "data": {
      "text/html": [
       "<div>\n",
       "<style scoped>\n",
       "    .dataframe tbody tr th:only-of-type {\n",
       "        vertical-align: middle;\n",
       "    }\n",
       "\n",
       "    .dataframe tbody tr th {\n",
       "        vertical-align: top;\n",
       "    }\n",
       "\n",
       "    .dataframe thead th {\n",
       "        text-align: right;\n",
       "    }\n",
       "</style>\n",
       "<table border=\"1\" class=\"dataframe\">\n",
       "  <thead>\n",
       "    <tr style=\"text-align: right;\">\n",
       "      <th></th>\n",
       "      <th>gender</th>\n",
       "      <th>cvr_active</th>\n",
       "    </tr>\n",
       "  </thead>\n",
       "  <tbody>\n",
       "    <tr>\n",
       "      <th>0</th>\n",
       "      <td>female</td>\n",
       "      <td>0.570115</td>\n",
       "    </tr>\n",
       "    <tr>\n",
       "      <th>1</th>\n",
       "      <td>male</td>\n",
       "      <td>0.563889</td>\n",
       "    </tr>\n",
       "  </tbody>\n",
       "</table>\n",
       "</div>"
      ],
      "text/plain": [
       "   gender  cvr_active\n",
       "0  female    0.570115\n",
       "1    male    0.563889"
      ]
     },
     "execution_count": 486,
     "metadata": {},
     "output_type": "execute_result"
    }
   ],
   "source": [
    "train_df[['gender', 'active']].groupby(['gender'], as_index=False).mean().sort_values(by='active', ascending=False).rename(columns={'active':'cvr_active'})"
   ]
  },
  {
   "cell_type": "code",
   "execution_count": 487,
   "metadata": {},
   "outputs": [
    {
     "data": {
      "image/png": "[encoded data removed]",
      "text/plain": [
       "<Figure size 432x288 with 1 Axes>"
      ]
     },
     "metadata": {},
     "output_type": "display_data"
    },
    {
     "data": {
      "text/plain": [
       "<Figure size 432x288 with 0 Axes>"
      ]
     },
     "metadata": {},
     "output_type": "display_data"
    }
   ],
   "source": [
    "sns.countplot(x='gender', data= train_df, palette = 'RdBu',)\n",
    "plt.show()\n",
    "plt.savefig('gender_plot')"
   ]
  },
  {
   "cell_type": "markdown",
   "metadata": {},
   "source": [
    "\n",
    "**Suggestions 1**   \n",
    "\n",
    "Although the number of female is 10% more than male, cvr of male is **3% more** likely to receive contract.\n"
   ]
  },
  {
   "cell_type": "code",
   "execution_count": 488,
   "metadata": {},
   "outputs": [
    {
     "data": {
      "text/html": [
       "<div>\n",
       "<style scoped>\n",
       "    .dataframe tbody tr th:only-of-type {\n",
       "        vertical-align: middle;\n",
       "    }\n",
       "\n",
       "    .dataframe tbody tr th {\n",
       "        vertical-align: top;\n",
       "    }\n",
       "\n",
       "    .dataframe thead th {\n",
       "        text-align: right;\n",
       "    }\n",
       "</style>\n",
       "<table border=\"1\" class=\"dataframe\">\n",
       "  <thead>\n",
       "    <tr style=\"text-align: right;\">\n",
       "      <th></th>\n",
       "      <th>source</th>\n",
       "      <th>cvr_active</th>\n",
       "    </tr>\n",
       "  </thead>\n",
       "  <tbody>\n",
       "    <tr>\n",
       "      <th>2</th>\n",
       "      <td>musicaly</td>\n",
       "      <td>0.800000</td>\n",
       "    </tr>\n",
       "    <tr>\n",
       "      <th>3</th>\n",
       "      <td>other</td>\n",
       "      <td>0.625000</td>\n",
       "    </tr>\n",
       "    <tr>\n",
       "      <th>1</th>\n",
       "      <td>instagram</td>\n",
       "      <td>0.573454</td>\n",
       "    </tr>\n",
       "    <tr>\n",
       "      <th>4</th>\n",
       "      <td>youtube</td>\n",
       "      <td>0.428571</td>\n",
       "    </tr>\n",
       "    <tr>\n",
       "      <th>0</th>\n",
       "      <td>facebook</td>\n",
       "      <td>0.250000</td>\n",
       "    </tr>\n",
       "  </tbody>\n",
       "</table>\n",
       "</div>"
      ],
      "text/plain": [
       "      source  cvr_active\n",
       "2   musicaly    0.800000\n",
       "3      other    0.625000\n",
       "1  instagram    0.573454\n",
       "4    youtube    0.428571\n",
       "0   facebook    0.250000"
      ]
     },
     "execution_count": 488,
     "metadata": {},
     "output_type": "execute_result"
    }
   ],
   "source": [
    "train_df[['source', 'active']].groupby(['source'], as_index=False).mean().sort_values(by='active', ascending=False).rename(columns={'active':'cvr_active'})"
   ]
  },
  {
   "cell_type": "code",
   "execution_count": 489,
   "metadata": {},
   "outputs": [
    {
     "data": {
      "image/png": "[encoded data removed]",
      "text/plain": [
       "<Figure size 432x288 with 1 Axes>"
      ]
     },
     "metadata": {},
     "output_type": "display_data"
    },
    {
     "data": {
      "text/plain": [
       "<Figure size 432x288 with 0 Axes>"
      ]
     },
     "metadata": {},
     "output_type": "display_data"
    }
   ],
   "source": [
    "sns.countplot(x='source', data= train_df, palette = 'Paired',)\n",
    "plt.show()\n",
    "plt.savefig('gender_plot')"
   ]
  },
  {
   "cell_type": "markdown",
   "metadata": {},
   "source": [
    "\n",
    "### Script Source \n",
    "**Assumptions 2.1** \n",
    "\n",
    "From the table above, we make assumption that ppl from musicaly and instagram are more likely to receive contract\n",
    "\n",
    "**Observations 2.1** \n",
    " \n",
    "Remember that according to previous data, we find 90% of ppl are from instagram.\n",
    "However, there is not enough ppl from misucaly. Let's dig more into the numbers and percentage sent contract.\n",
    "\n"
   ]
  },
  {
   "cell_type": "code",
   "execution_count": 490,
   "metadata": {},
   "outputs": [
    {
     "data": {
      "text/html": [
       "<div>\n",
       "<style scoped>\n",
       "    .dataframe tbody tr th:only-of-type {\n",
       "        vertical-align: middle;\n",
       "    }\n",
       "\n",
       "    .dataframe tbody tr th {\n",
       "        vertical-align: top;\n",
       "    }\n",
       "\n",
       "    .dataframe thead tr th {\n",
       "        text-align: left;\n",
       "    }\n",
       "\n",
       "    .dataframe thead tr:last-of-type th {\n",
       "        text-align: right;\n",
       "    }\n",
       "</style>\n",
       "<table border=\"1\" class=\"dataframe\">\n",
       "  <thead>\n",
       "    <tr>\n",
       "      <th></th>\n",
       "      <th colspan=\"2\" halign=\"left\">active</th>\n",
       "      <th>cvr_active</th>\n",
       "    </tr>\n",
       "    <tr>\n",
       "      <th></th>\n",
       "      <th>num_active</th>\n",
       "      <th>num_ttl</th>\n",
       "      <th></th>\n",
       "    </tr>\n",
       "    <tr>\n",
       "      <th>source</th>\n",
       "      <th></th>\n",
       "      <th></th>\n",
       "      <th></th>\n",
       "    </tr>\n",
       "  </thead>\n",
       "  <tbody>\n",
       "    <tr>\n",
       "      <th>facebook</th>\n",
       "      <td>1</td>\n",
       "      <td>4</td>\n",
       "      <td>0.25</td>\n",
       "    </tr>\n",
       "    <tr>\n",
       "      <th>instagram</th>\n",
       "      <td>445</td>\n",
       "      <td>776</td>\n",
       "      <td>0.57</td>\n",
       "    </tr>\n",
       "    <tr>\n",
       "      <th>musicaly</th>\n",
       "      <td>4</td>\n",
       "      <td>5</td>\n",
       "      <td>0.80</td>\n",
       "    </tr>\n",
       "    <tr>\n",
       "      <th>other</th>\n",
       "      <td>5</td>\n",
       "      <td>8</td>\n",
       "      <td>0.62</td>\n",
       "    </tr>\n",
       "    <tr>\n",
       "      <th>youtube</th>\n",
       "      <td>12</td>\n",
       "      <td>28</td>\n",
       "      <td>0.43</td>\n",
       "    </tr>\n",
       "  </tbody>\n",
       "</table>\n",
       "</div>"
      ],
      "text/plain": [
       "              active         cvr_active\n",
       "          num_active num_ttl           \n",
       "source                                 \n",
       "facebook           1       4       0.25\n",
       "instagram        445     776       0.57\n",
       "musicaly           4       5       0.80\n",
       "other              5       8       0.62\n",
       "youtube           12      28       0.43"
      ]
     },
     "execution_count": 490,
     "metadata": {},
     "output_type": "execute_result"
    }
   ],
   "source": [
    "sc = train_df[['source','active']].groupby(['source']).agg(['sum', 'count']).rename(columns={'count':'num_ttl','sum':'num_active'})\n",
    "sc['cvr_active'] = round(sc.iloc[:,0]/sc.iloc[:,1],2)\n",
    "sc"
   ]
  },
  {
   "cell_type": "markdown",
   "metadata": {},
   "source": [
    "**Suggestions 2**\n",
    "\n",
    "Among 496 active talents, 451 are from instagram, 4 from musicaly.\n",
    "Sample from musicaly is too small, but I would suggest we try script more on Musicaly, and keep scripting instagram. "
   ]
  },
  {
   "cell_type": "code",
   "execution_count": 491,
   "metadata": {},
   "outputs": [
    {
     "data": {
      "text/html": [
       "<div>\n",
       "<style scoped>\n",
       "    .dataframe tbody tr th:only-of-type {\n",
       "        vertical-align: middle;\n",
       "    }\n",
       "\n",
       "    .dataframe tbody tr th {\n",
       "        vertical-align: top;\n",
       "    }\n",
       "\n",
       "    .dataframe thead th {\n",
       "        text-align: right;\n",
       "    }\n",
       "</style>\n",
       "<table border=\"1\" class=\"dataframe\">\n",
       "  <thead>\n",
       "    <tr style=\"text-align: right;\">\n",
       "      <th></th>\n",
       "      <th>age_group</th>\n",
       "      <th>cvr_active</th>\n",
       "    </tr>\n",
       "  </thead>\n",
       "  <tbody>\n",
       "    <tr>\n",
       "      <th>1</th>\n",
       "      <td>13-17</td>\n",
       "      <td>0.764706</td>\n",
       "    </tr>\n",
       "    <tr>\n",
       "      <th>0</th>\n",
       "      <td>0-12</td>\n",
       "      <td>0.636364</td>\n",
       "    </tr>\n",
       "    <tr>\n",
       "      <th>4</th>\n",
       "      <td>35+</td>\n",
       "      <td>0.617647</td>\n",
       "    </tr>\n",
       "    <tr>\n",
       "      <th>2</th>\n",
       "      <td>18-24</td>\n",
       "      <td>0.580547</td>\n",
       "    </tr>\n",
       "    <tr>\n",
       "      <th>3</th>\n",
       "      <td>25-34</td>\n",
       "      <td>0.522337</td>\n",
       "    </tr>\n",
       "  </tbody>\n",
       "</table>\n",
       "</div>"
      ],
      "text/plain": [
       "  age_group  cvr_active\n",
       "1     13-17    0.764706\n",
       "0      0-12    0.636364\n",
       "4       35+    0.617647\n",
       "2     18-24    0.580547\n",
       "3     25-34    0.522337"
      ]
     },
     "execution_count": 491,
     "metadata": {},
     "output_type": "execute_result"
    }
   ],
   "source": [
    "train_df[['age_group', 'active']].groupby(['age_group'], as_index=False).mean().sort_values(by='active', ascending=False).rename(columns={'active':'cvr_active'})"
   ]
  },
  {
   "cell_type": "code",
   "execution_count": 492,
   "metadata": {},
   "outputs": [
    {
     "data": {
      "image/png": "[encoded data removed]",
      "text/plain": [
       "<Figure size 432x288 with 1 Axes>"
      ]
     },
     "metadata": {},
     "output_type": "display_data"
    },
    {
     "data": {
      "text/plain": [
       "<Figure size 432x288 with 0 Axes>"
      ]
     },
     "metadata": {},
     "output_type": "display_data"
    }
   ],
   "source": [
    "sns.countplot(x='age_group', data= train_df, palette = 'Set1',)\n",
    "plt.show()\n",
    "plt.savefig('gender_plot')"
   ]
  },
  {
   "cell_type": "markdown",
   "metadata": {},
   "source": [
    "### Age Group \n",
    "**Assumptions 3.1** \n",
    "\n",
    "From the table above, we make assumption that ppl in age group 13-17, 35+ are more likely to receive contract. \n",
    "Although whether they want to sign contract or not is another story, it looks like we should target more on ppl in age group 13-17 and 35+\n",
    "\n",
    "**Observations 3.1** \n",
    " \n",
    "CVR ranking: '13-17' > '35+' > '18-24' > '0-12' > '25-34' .  \n",
    "Remember that according to previous data, we find 350/790= 44% of ppl are from age group 18-24, but actually their cvr from interview to active is not Top 1, much lower than younger ppl.  \n",
    "Since there is not enough ppl from 0-12 and 35+. Let's dig more into the numbers and compare with percentage sent contract.\n"
   ]
  },
  {
   "cell_type": "code",
   "execution_count": 493,
   "metadata": {},
   "outputs": [
    {
     "data": {
      "text/html": [
       "<div>\n",
       "<style scoped>\n",
       "    .dataframe tbody tr th:only-of-type {\n",
       "        vertical-align: middle;\n",
       "    }\n",
       "\n",
       "    .dataframe tbody tr th {\n",
       "        vertical-align: top;\n",
       "    }\n",
       "\n",
       "    .dataframe thead tr th {\n",
       "        text-align: left;\n",
       "    }\n",
       "\n",
       "    .dataframe thead tr:last-of-type th {\n",
       "        text-align: right;\n",
       "    }\n",
       "</style>\n",
       "<table border=\"1\" class=\"dataframe\">\n",
       "  <thead>\n",
       "    <tr>\n",
       "      <th></th>\n",
       "      <th colspan=\"2\" halign=\"left\">active</th>\n",
       "      <th>cvr_active</th>\n",
       "    </tr>\n",
       "    <tr>\n",
       "      <th></th>\n",
       "      <th>cvr_active</th>\n",
       "      <th>num_ttl</th>\n",
       "      <th></th>\n",
       "    </tr>\n",
       "    <tr>\n",
       "      <th>age_group</th>\n",
       "      <th></th>\n",
       "      <th></th>\n",
       "      <th></th>\n",
       "    </tr>\n",
       "  </thead>\n",
       "  <tbody>\n",
       "    <tr>\n",
       "      <th>0-12</th>\n",
       "      <td>7</td>\n",
       "      <td>11</td>\n",
       "      <td>0.6364</td>\n",
       "    </tr>\n",
       "    <tr>\n",
       "      <th>13-17</th>\n",
       "      <td>39</td>\n",
       "      <td>51</td>\n",
       "      <td>0.7647</td>\n",
       "    </tr>\n",
       "    <tr>\n",
       "      <th>18-24</th>\n",
       "      <td>191</td>\n",
       "      <td>329</td>\n",
       "      <td>0.5805</td>\n",
       "    </tr>\n",
       "    <tr>\n",
       "      <th>25-34</th>\n",
       "      <td>152</td>\n",
       "      <td>291</td>\n",
       "      <td>0.5223</td>\n",
       "    </tr>\n",
       "    <tr>\n",
       "      <th>35+</th>\n",
       "      <td>42</td>\n",
       "      <td>68</td>\n",
       "      <td>0.6176</td>\n",
       "    </tr>\n",
       "  </tbody>\n",
       "</table>\n",
       "</div>"
      ],
      "text/plain": [
       "              active         cvr_active\n",
       "          cvr_active num_ttl           \n",
       "age_group                              \n",
       "0-12               7      11     0.6364\n",
       "13-17             39      51     0.7647\n",
       "18-24            191     329     0.5805\n",
       "25-34            152     291     0.5223\n",
       "35+               42      68     0.6176"
      ]
     },
     "execution_count": 493,
     "metadata": {},
     "output_type": "execute_result"
    }
   ],
   "source": [
    "ag = train_df[['age_group','active']].groupby(['age_group'], as_index=False).agg(['sum', 'count']).rename(columns={'count':'num_ttl','sum':'cvr_active'})\n",
    "ag['cvr_active'] = round(ag.iloc[:,0]/ag.iloc[:,1],4)\n",
    "ag"
   ]
  },
  {
   "cell_type": "markdown",
   "metadata": {},
   "source": [
    "**Suggestions 3**\n",
    "\n",
    "CVR ranking: '13-17' > '0-12' > '18-24'> '35+' > '25-34'.  \n",
    "num_active ranking: '18-24' > '25-34' > '13-17' >'35+' > '0-12'.  \n",
    "\n",
    "Now, we targeted more on ppl from 18 to 24, and they do perform very well. We should keep interviewing ppl 18-24, and I would also suggest we give older ppl more chances."
   ]
  },
  {
   "cell_type": "code",
   "execution_count": 494,
   "metadata": {},
   "outputs": [
    {
     "data": {
      "text/html": [
       "<div>\n",
       "<style scoped>\n",
       "    .dataframe tbody tr th:only-of-type {\n",
       "        vertical-align: middle;\n",
       "    }\n",
       "\n",
       "    .dataframe tbody tr th {\n",
       "        vertical-align: top;\n",
       "    }\n",
       "\n",
       "    .dataframe thead th {\n",
       "        text-align: right;\n",
       "    }\n",
       "</style>\n",
       "<table border=\"1\" class=\"dataframe\">\n",
       "  <thead>\n",
       "    <tr style=\"text-align: right;\">\n",
       "      <th></th>\n",
       "      <th>country</th>\n",
       "      <th>cvr_active</th>\n",
       "    </tr>\n",
       "  </thead>\n",
       "  <tbody>\n",
       "    <tr>\n",
       "      <th>0</th>\n",
       "      <td>AU</td>\n",
       "      <td>1.000000</td>\n",
       "    </tr>\n",
       "    <tr>\n",
       "      <th>30</th>\n",
       "      <td>UA</td>\n",
       "      <td>1.000000</td>\n",
       "    </tr>\n",
       "    <tr>\n",
       "      <th>22</th>\n",
       "      <td>NO</td>\n",
       "      <td>1.000000</td>\n",
       "    </tr>\n",
       "    <tr>\n",
       "      <th>16</th>\n",
       "      <td>IT</td>\n",
       "      <td>1.000000</td>\n",
       "    </tr>\n",
       "    <tr>\n",
       "      <th>15</th>\n",
       "      <td>IQ</td>\n",
       "      <td>1.000000</td>\n",
       "    </tr>\n",
       "    <tr>\n",
       "      <th>24</th>\n",
       "      <td>PE</td>\n",
       "      <td>1.000000</td>\n",
       "    </tr>\n",
       "    <tr>\n",
       "      <th>29</th>\n",
       "      <td>SK</td>\n",
       "      <td>1.000000</td>\n",
       "    </tr>\n",
       "    <tr>\n",
       "      <th>9</th>\n",
       "      <td>ES</td>\n",
       "      <td>1.000000</td>\n",
       "    </tr>\n",
       "    <tr>\n",
       "      <th>6</th>\n",
       "      <td>CO</td>\n",
       "      <td>1.000000</td>\n",
       "    </tr>\n",
       "    <tr>\n",
       "      <th>32</th>\n",
       "      <td>VN</td>\n",
       "      <td>1.000000</td>\n",
       "    </tr>\n",
       "    <tr>\n",
       "      <th>2</th>\n",
       "      <td>BD</td>\n",
       "      <td>1.000000</td>\n",
       "    </tr>\n",
       "    <tr>\n",
       "      <th>18</th>\n",
       "      <td>KE</td>\n",
       "      <td>1.000000</td>\n",
       "    </tr>\n",
       "    <tr>\n",
       "      <th>11</th>\n",
       "      <td>GB</td>\n",
       "      <td>0.777778</td>\n",
       "    </tr>\n",
       "    <tr>\n",
       "      <th>14</th>\n",
       "      <td>IN</td>\n",
       "      <td>0.750000</td>\n",
       "    </tr>\n",
       "    <tr>\n",
       "      <th>4</th>\n",
       "      <td>CA</td>\n",
       "      <td>0.700000</td>\n",
       "    </tr>\n",
       "    <tr>\n",
       "      <th>31</th>\n",
       "      <td>US</td>\n",
       "      <td>0.567347</td>\n",
       "    </tr>\n",
       "    <tr>\n",
       "      <th>21</th>\n",
       "      <td>NL</td>\n",
       "      <td>0.500000</td>\n",
       "    </tr>\n",
       "    <tr>\n",
       "      <th>27</th>\n",
       "      <td>SE</td>\n",
       "      <td>0.500000</td>\n",
       "    </tr>\n",
       "    <tr>\n",
       "      <th>26</th>\n",
       "      <td>PL</td>\n",
       "      <td>0.500000</td>\n",
       "    </tr>\n",
       "    <tr>\n",
       "      <th>33</th>\n",
       "      <td>ZA</td>\n",
       "      <td>0.500000</td>\n",
       "    </tr>\n",
       "    <tr>\n",
       "      <th>13</th>\n",
       "      <td>IE</td>\n",
       "      <td>0.500000</td>\n",
       "    </tr>\n",
       "    <tr>\n",
       "      <th>10</th>\n",
       "      <td>FR</td>\n",
       "      <td>0.333333</td>\n",
       "    </tr>\n",
       "    <tr>\n",
       "      <th>3</th>\n",
       "      <td>BR</td>\n",
       "      <td>0.333333</td>\n",
       "    </tr>\n",
       "    <tr>\n",
       "      <th>20</th>\n",
       "      <td>MX</td>\n",
       "      <td>0.250000</td>\n",
       "    </tr>\n",
       "    <tr>\n",
       "      <th>25</th>\n",
       "      <td>PH</td>\n",
       "      <td>0.250000</td>\n",
       "    </tr>\n",
       "    <tr>\n",
       "      <th>19</th>\n",
       "      <td>LT</td>\n",
       "      <td>0.000000</td>\n",
       "    </tr>\n",
       "    <tr>\n",
       "      <th>1</th>\n",
       "      <td>AW</td>\n",
       "      <td>0.000000</td>\n",
       "    </tr>\n",
       "    <tr>\n",
       "      <th>23</th>\n",
       "      <td>PA</td>\n",
       "      <td>0.000000</td>\n",
       "    </tr>\n",
       "    <tr>\n",
       "      <th>12</th>\n",
       "      <td>HR</td>\n",
       "      <td>0.000000</td>\n",
       "    </tr>\n",
       "    <tr>\n",
       "      <th>28</th>\n",
       "      <td>SG</td>\n",
       "      <td>0.000000</td>\n",
       "    </tr>\n",
       "    <tr>\n",
       "      <th>8</th>\n",
       "      <td>EG</td>\n",
       "      <td>0.000000</td>\n",
       "    </tr>\n",
       "    <tr>\n",
       "      <th>7</th>\n",
       "      <td>DE</td>\n",
       "      <td>0.000000</td>\n",
       "    </tr>\n",
       "    <tr>\n",
       "      <th>5</th>\n",
       "      <td>CL</td>\n",
       "      <td>0.000000</td>\n",
       "    </tr>\n",
       "    <tr>\n",
       "      <th>17</th>\n",
       "      <td>JM</td>\n",
       "      <td>0.000000</td>\n",
       "    </tr>\n",
       "  </tbody>\n",
       "</table>\n",
       "</div>"
      ],
      "text/plain": [
       "   country  cvr_active\n",
       "0       AU    1.000000\n",
       "30      UA    1.000000\n",
       "22      NO    1.000000\n",
       "16      IT    1.000000\n",
       "15      IQ    1.000000\n",
       "24      PE    1.000000\n",
       "29      SK    1.000000\n",
       "9       ES    1.000000\n",
       "6       CO    1.000000\n",
       "32      VN    1.000000\n",
       "2       BD    1.000000\n",
       "18      KE    1.000000\n",
       "11      GB    0.777778\n",
       "14      IN    0.750000\n",
       "4       CA    0.700000\n",
       "31      US    0.567347\n",
       "21      NL    0.500000\n",
       "27      SE    0.500000\n",
       "26      PL    0.500000\n",
       "33      ZA    0.500000\n",
       "13      IE    0.500000\n",
       "10      FR    0.333333\n",
       "3       BR    0.333333\n",
       "20      MX    0.250000\n",
       "25      PH    0.250000\n",
       "19      LT    0.000000\n",
       "1       AW    0.000000\n",
       "23      PA    0.000000\n",
       "12      HR    0.000000\n",
       "28      SG    0.000000\n",
       "8       EG    0.000000\n",
       "7       DE    0.000000\n",
       "5       CL    0.000000\n",
       "17      JM    0.000000"
      ]
     },
     "execution_count": 494,
     "metadata": {},
     "output_type": "execute_result"
    }
   ],
   "source": [
    "cy_cvr = train_df[['country', 'active']].groupby(['country'], as_index=False).mean().sort_values(by='active', ascending=False).rename(columns={'active':'cvr_active'})\n",
    "cy_cvr"
   ]
  },
  {
   "cell_type": "markdown",
   "metadata": {},
   "source": [
    "### Country or Region\n",
    "**Observations 4.1**   \n",
    "Ppl from IT:Italy , ES:Spain, VN:Vietnam, UA:Ukraine, SK:Slovakia, PL:Poland, PE:Peru, NO:Norway, KE:Kenya, IQ:Iraq, ZA:South Africa have 100% cvr, that is so amazing! Is that because the sample is too small? Let's compare the cvr with actual number.\n",
    "\n"
   ]
  },
  {
   "cell_type": "code",
   "execution_count": 495,
   "metadata": {
    "scrolled": true
   },
   "outputs": [
    {
     "data": {
      "text/html": [
       "<div>\n",
       "<style scoped>\n",
       "    .dataframe tbody tr th:only-of-type {\n",
       "        vertical-align: middle;\n",
       "    }\n",
       "\n",
       "    .dataframe tbody tr th {\n",
       "        vertical-align: top;\n",
       "    }\n",
       "\n",
       "    .dataframe thead th {\n",
       "        text-align: right;\n",
       "    }\n",
       "</style>\n",
       "<table border=\"1\" class=\"dataframe\">\n",
       "  <thead>\n",
       "    <tr style=\"text-align: right;\">\n",
       "      <th></th>\n",
       "      <th>country</th>\n",
       "      <th>num_active</th>\n",
       "      <th>cvr_active</th>\n",
       "    </tr>\n",
       "  </thead>\n",
       "  <tbody>\n",
       "    <tr>\n",
       "      <th>0</th>\n",
       "      <td>US</td>\n",
       "      <td>417</td>\n",
       "      <td>0.567347</td>\n",
       "    </tr>\n",
       "    <tr>\n",
       "      <th>1</th>\n",
       "      <td>CA</td>\n",
       "      <td>14</td>\n",
       "      <td>0.700000</td>\n",
       "    </tr>\n",
       "    <tr>\n",
       "      <th>2</th>\n",
       "      <td>GB</td>\n",
       "      <td>7</td>\n",
       "      <td>0.777778</td>\n",
       "    </tr>\n",
       "    <tr>\n",
       "      <th>3</th>\n",
       "      <td>AU</td>\n",
       "      <td>3</td>\n",
       "      <td>1.000000</td>\n",
       "    </tr>\n",
       "    <tr>\n",
       "      <th>4</th>\n",
       "      <td>IN</td>\n",
       "      <td>3</td>\n",
       "      <td>0.750000</td>\n",
       "    </tr>\n",
       "    <tr>\n",
       "      <th>5</th>\n",
       "      <td>SE</td>\n",
       "      <td>2</td>\n",
       "      <td>0.500000</td>\n",
       "    </tr>\n",
       "    <tr>\n",
       "      <th>6</th>\n",
       "      <td>ES</td>\n",
       "      <td>2</td>\n",
       "      <td>1.000000</td>\n",
       "    </tr>\n",
       "  </tbody>\n",
       "</table>\n",
       "</div>"
      ],
      "text/plain": [
       "  country  num_active  cvr_active\n",
       "0      US         417    0.567347\n",
       "1      CA          14    0.700000\n",
       "2      GB           7    0.777778\n",
       "3      AU           3    1.000000\n",
       "4      IN           3    0.750000\n",
       "5      SE           2    0.500000\n",
       "6      ES           2    1.000000"
      ]
     },
     "execution_count": 495,
     "metadata": {},
     "output_type": "execute_result"
    }
   ],
   "source": [
    "cy = train_df[['country','active']].groupby(['country'], as_index=False).sum().sort_values(by='active', ascending=False).rename(columns={'active':'num_active'})\n",
    "#pd.concat([cy, cy_cvr], axis=1, join='inner', ignore_index=True)\n",
    "cy = pd.merge(cy,cy_cvr)\n",
    "\n",
    "#Sample is too small, let's select number send contract greater than 2 (Sample is still very small).\n",
    "cy = cy.loc[cy['num_active'] > 1]\n",
    "cy"
   ]
  },
  {
   "cell_type": "code",
   "execution_count": 496,
   "metadata": {},
   "outputs": [
    {
     "data": {
      "text/plain": [
       "<matplotlib.axes._subplots.AxesSubplot at 0x1a2b6c6588>"
      ]
     },
     "execution_count": 496,
     "metadata": {},
     "output_type": "execute_result"
    },
    {
     "data": {
      "image/png": "[encoded data removed]",
      "text/plain": [
       "<Figure size 432x288 with 1 Axes>"
      ]
     },
     "metadata": {},
     "output_type": "display_data"
    }
   ],
   "source": [
    "#sns.plot(x='num_active', data= cy, palette = 'Set1',)\n",
    "#plt.show()\n",
    "#plt.savefig('country_plot')\n",
    "\n",
    "sns.barplot(x='country', y='num_active', data = cy, palette=\"vlag\")\n",
    "\n",
    "#x = np.array(list(\"ABCDEFGHIJ\"))\n",
    "#y1 = np.arange(1, 11)\n",
    "#sns.barplot(x=x, y=y1, palette=\"vlag\")\n"
   ]
  },
  {
   "cell_type": "markdown",
   "metadata": {},
   "source": [
    "\n",
    "***Suggestions 4.1***  \n",
    "After deleting samples less than 2, ES: **Spain** still have 100% cvr, followed by IN: **India**, AU:  **Australia**, GB:  **United Kindom**.\n",
    "  \n",
    "My suggestion is that when we script based on ppl's location, except for U.S, we increase the volume of ppl from Spain, India, Australia and United Kindom. \n",
    "Since the sample is very limited, next step we can try Italy , Spain, Vietnam, Ukraine, Slovakia, Poland, Peru, Norway, Kenya, Iraq, and South Africa."
   ]
  },
  {
   "cell_type": "markdown",
   "metadata": {},
   "source": [
    "**Assumptions 4.2**   \n",
    "Let's zoom in to **U.S** only.   \n",
    "From our previous experiences, most of our BAs are from California and New York. Do they have better performance than ppl from other areas? What about their cvr and active distribution?"
   ]
  },
  {
   "cell_type": "code",
   "execution_count": 497,
   "metadata": {},
   "outputs": [
    {
     "data": {
      "text/html": [
       "<div>\n",
       "<style scoped>\n",
       "    .dataframe tbody tr th:only-of-type {\n",
       "        vertical-align: middle;\n",
       "    }\n",
       "\n",
       "    .dataframe tbody tr th {\n",
       "        vertical-align: top;\n",
       "    }\n",
       "\n",
       "    .dataframe thead th {\n",
       "        text-align: right;\n",
       "    }\n",
       "</style>\n",
       "<table border=\"1\" class=\"dataframe\">\n",
       "  <thead>\n",
       "    <tr style=\"text-align: right;\">\n",
       "      <th></th>\n",
       "      <th>state</th>\n",
       "      <th>num_active</th>\n",
       "      <th>active_cvr</th>\n",
       "    </tr>\n",
       "  </thead>\n",
       "  <tbody>\n",
       "    <tr>\n",
       "      <th>23</th>\n",
       "      <td>Florida</td>\n",
       "      <td>24</td>\n",
       "      <td>0.827586</td>\n",
       "    </tr>\n",
       "    <tr>\n",
       "      <th>30</th>\n",
       "      <td>Illinois</td>\n",
       "      <td>16</td>\n",
       "      <td>0.727273</td>\n",
       "    </tr>\n",
       "    <tr>\n",
       "      <th>24</th>\n",
       "      <td>Georgia</td>\n",
       "      <td>11</td>\n",
       "      <td>0.647059</td>\n",
       "    </tr>\n",
       "    <tr>\n",
       "      <th>10</th>\n",
       "      <td>California</td>\n",
       "      <td>132</td>\n",
       "      <td>0.605505</td>\n",
       "    </tr>\n",
       "    <tr>\n",
       "      <th>63</th>\n",
       "      <td>Pennsylvania</td>\n",
       "      <td>11</td>\n",
       "      <td>0.523810</td>\n",
       "    </tr>\n",
       "    <tr>\n",
       "      <th>56</th>\n",
       "      <td>New York</td>\n",
       "      <td>39</td>\n",
       "      <td>0.500000</td>\n",
       "    </tr>\n",
       "    <tr>\n",
       "      <th>79</th>\n",
       "      <td>Texas</td>\n",
       "      <td>14</td>\n",
       "      <td>0.466667</td>\n",
       "    </tr>\n",
       "  </tbody>\n",
       "</table>\n",
       "</div>"
      ],
      "text/plain": [
       "           state  num_active  active_cvr\n",
       "23       Florida          24    0.827586\n",
       "30      Illinois          16    0.727273\n",
       "24       Georgia          11    0.647059\n",
       "10    California         132    0.605505\n",
       "63  Pennsylvania          11    0.523810\n",
       "56      New York          39    0.500000\n",
       "79         Texas          14    0.466667"
      ]
     },
     "execution_count": 497,
     "metadata": {},
     "output_type": "execute_result"
    }
   ],
   "source": [
    "rg_cvr = train_df[['state', 'active']].groupby(['state'], as_index=False).mean().sort_values(by='active', ascending=False).rename(columns={'active':'active_cvr'})\n",
    "rg_cvr\n",
    "\n",
    "rg = train_df[['state','active']].groupby(['state'], as_index=False).sum().rename(columns={'active':'num_active'})\n",
    "rg = pd.merge(rg,rg_cvr).sort_values(by='active_cvr', ascending=False)\n",
    "\n",
    "#Sample is too small, let's select number send contract greater than 10.\n",
    "rg = rg.loc[rg['num_active'] > 10]\n",
    "rg"
   ]
  },
  {
   "cell_type": "code",
   "execution_count": 498,
   "metadata": {},
   "outputs": [
    {
     "data": {
      "text/plain": [
       "<matplotlib.axes._subplots.AxesSubplot at 0x1a2ae9c6d8>"
      ]
     },
     "execution_count": 498,
     "metadata": {},
     "output_type": "execute_result"
    },
    {
     "data": {
      "image/png": "[encoded data removed]",
      "text/plain": [
       "<Figure size 432x288 with 1 Axes>"
      ]
     },
     "metadata": {},
     "output_type": "display_data"
    }
   ],
   "source": [
    "sns.barplot(x='state', y='num_active', data = rg, palette=\"Set2\")"
   ]
  },
  {
   "cell_type": "markdown",
   "metadata": {},
   "source": [
    "***Suggestions 4.2***   \n",
    "After deleting samples less than 10, top 3 cvr are from Florida, Illinois and Georgia, and then the two major cities California and New York.\n",
    "My suggestion is when we script based on location/state, except for CA and NY, increase the volume of ppl from Florida, Illinois and Georgia."
   ]
  },
  {
   "cell_type": "markdown",
   "metadata": {},
   "source": [
    "### Category\n"
   ]
  },
  {
   "cell_type": "code",
   "execution_count": 499,
   "metadata": {},
   "outputs": [
    {
     "data": {
      "text/html": [
       "<div>\n",
       "<style scoped>\n",
       "    .dataframe tbody tr th:only-of-type {\n",
       "        vertical-align: middle;\n",
       "    }\n",
       "\n",
       "    .dataframe tbody tr th {\n",
       "        vertical-align: top;\n",
       "    }\n",
       "\n",
       "    .dataframe thead th {\n",
       "        text-align: right;\n",
       "    }\n",
       "</style>\n",
       "<table border=\"1\" class=\"dataframe\">\n",
       "  <thead>\n",
       "    <tr style=\"text-align: right;\">\n",
       "      <th></th>\n",
       "      <th>first_category</th>\n",
       "      <th>num_active</th>\n",
       "      <th>pct_active</th>\n",
       "      <th>pct_cvr</th>\n",
       "    </tr>\n",
       "  </thead>\n",
       "  <tbody>\n",
       "    <tr>\n",
       "      <th>0</th>\n",
       "      <td>comedy</td>\n",
       "      <td>59</td>\n",
       "      <td>13.38%</td>\n",
       "      <td>71.08%</td>\n",
       "    </tr>\n",
       "    <tr>\n",
       "      <th>5</th>\n",
       "      <td>pet</td>\n",
       "      <td>6</td>\n",
       "      <td>1.36%</td>\n",
       "      <td>60.00%</td>\n",
       "    </tr>\n",
       "    <tr>\n",
       "      <th>4</th>\n",
       "      <td>performance</td>\n",
       "      <td>122</td>\n",
       "      <td>27.66%</td>\n",
       "      <td>58.37%</td>\n",
       "    </tr>\n",
       "    <tr>\n",
       "      <th>1</th>\n",
       "      <td>dance</td>\n",
       "      <td>21</td>\n",
       "      <td>4.76%</td>\n",
       "      <td>58.33%</td>\n",
       "    </tr>\n",
       "    <tr>\n",
       "      <th>3</th>\n",
       "      <td>lifestyle</td>\n",
       "      <td>114</td>\n",
       "      <td>25.85%</td>\n",
       "      <td>57.87%</td>\n",
       "    </tr>\n",
       "    <tr>\n",
       "      <th>7</th>\n",
       "      <td>travel</td>\n",
       "      <td>33</td>\n",
       "      <td>7.48%</td>\n",
       "      <td>56.90%</td>\n",
       "    </tr>\n",
       "    <tr>\n",
       "      <th>6</th>\n",
       "      <td>sport</td>\n",
       "      <td>21</td>\n",
       "      <td>4.76%</td>\n",
       "      <td>52.50%</td>\n",
       "    </tr>\n",
       "    <tr>\n",
       "      <th>2</th>\n",
       "      <td>fashion</td>\n",
       "      <td>65</td>\n",
       "      <td>14.74%</td>\n",
       "      <td>51.18%</td>\n",
       "    </tr>\n",
       "  </tbody>\n",
       "</table>\n",
       "</div>"
      ],
      "text/plain": [
       "  first_category  num_active pct_active pct_cvr\n",
       "0         comedy          59     13.38%  71.08%\n",
       "5            pet           6      1.36%  60.00%\n",
       "4    performance         122     27.66%  58.37%\n",
       "1          dance          21      4.76%  58.33%\n",
       "3      lifestyle         114     25.85%  57.87%\n",
       "7         travel          33      7.48%  56.90%\n",
       "6          sport          21      4.76%  52.50%\n",
       "2        fashion          65     14.74%  51.18%"
      ]
     },
     "execution_count": 499,
     "metadata": {},
     "output_type": "execute_result"
    }
   ],
   "source": [
    "cat_cvr = train_df[['first_category', 'active']].groupby(['first_category'], as_index=False).mean().sort_values(by='active', ascending=False).rename(columns={'active':'active_cvr'})\n",
    "cat_cvr\n",
    "\n",
    "cat = train_df[['first_category','active']].groupby(['first_category'], as_index=False).sum().rename(columns={'active':'num_active'})\n",
    "cat['pct_catogory'] = round(cat['num_active']/cat['num_active'].sum(),4)\n",
    "\n",
    "cat = pd.merge(cat,cat_cvr).sort_values(by='active_cvr', ascending=False)\n",
    "cat['pct_cvr'] = pd.Series([\"{0:.2f}%\".format(val * 100) for val in cat['active_cvr']], index = cat.index)\n",
    "cat['pct_active'] = pd.Series([\"{0:.2f}%\".format(val * 100) for val in cat['pct_catogory']], index = cat.index)\n",
    "cat = cat.iloc[:,[0,1,5,4]]\n",
    "cat"
   ]
  },
  {
   "cell_type": "code",
   "execution_count": 500,
   "metadata": {},
   "outputs": [
    {
     "data": {
      "text/plain": [
       "<matplotlib.axes._subplots.AxesSubplot at 0x1a2ae9f3c8>"
      ]
     },
     "execution_count": 500,
     "metadata": {},
     "output_type": "execute_result"
    },
    {
     "data": {
      "image/png": "[encoded data removed]",
      "text/plain": [
       "<Figure size 432x288 with 1 Axes>"
      ]
     },
     "metadata": {},
     "output_type": "display_data"
    }
   ],
   "source": [
    "sns.barplot(x='first_category', y='num_active', data = cat, palette=\"Set3\")"
   ]
  },
  {
   "cell_type": "markdown",
   "metadata": {},
   "source": [
    "\n",
    "**Observations 5.1**    \n",
    "CVR ranking: Pet > Comedy > Performance   \n",
    "Num_active ranking: Performance > Lifestyle > Comedy\n"
   ]
  },
  {
   "cell_type": "markdown",
   "metadata": {},
   "source": [
    "***Suggestions 5.1***  \n",
    "My suggestion is when we script based on hashtag, increase the volume of Pet theme, they have the highest cvr.\n",
    "Also Performance and Comedy is not bad. Keep scripting Comedy and Performance Theme. "
   ]
  },
  {
   "cell_type": "markdown",
   "metadata": {},
   "source": [
    "**Assumptions 5.2**    \n",
    "More focused, which means they have less categories, are more likely to receive contract"
   ]
  },
  {
   "cell_type": "markdown",
   "metadata": {},
   "source": [
    "### How many categories do they belong to\n"
   ]
  },
  {
   "cell_type": "code",
   "execution_count": 501,
   "metadata": {},
   "outputs": [
    {
     "data": {
      "text/html": [
       "<div>\n",
       "<style scoped>\n",
       "    .dataframe tbody tr th:only-of-type {\n",
       "        vertical-align: middle;\n",
       "    }\n",
       "\n",
       "    .dataframe tbody tr th {\n",
       "        vertical-align: top;\n",
       "    }\n",
       "\n",
       "    .dataframe thead th {\n",
       "        text-align: right;\n",
       "    }\n",
       "</style>\n",
       "<table border=\"1\" class=\"dataframe\">\n",
       "  <thead>\n",
       "    <tr style=\"text-align: right;\">\n",
       "      <th></th>\n",
       "      <th>categories_count</th>\n",
       "      <th>num_active</th>\n",
       "      <th>active_cvr</th>\n",
       "    </tr>\n",
       "  </thead>\n",
       "  <tbody>\n",
       "    <tr>\n",
       "      <th>4</th>\n",
       "      <td>5.0</td>\n",
       "      <td>1</td>\n",
       "      <td>100.00%</td>\n",
       "    </tr>\n",
       "    <tr>\n",
       "      <th>2</th>\n",
       "      <td>3.0</td>\n",
       "      <td>8</td>\n",
       "      <td>80.00%</td>\n",
       "    </tr>\n",
       "    <tr>\n",
       "      <th>0</th>\n",
       "      <td>1.0</td>\n",
       "      <td>411</td>\n",
       "      <td>57.81%</td>\n",
       "    </tr>\n",
       "    <tr>\n",
       "      <th>1</th>\n",
       "      <td>2.0</td>\n",
       "      <td>19</td>\n",
       "      <td>55.88%</td>\n",
       "    </tr>\n",
       "    <tr>\n",
       "      <th>3</th>\n",
       "      <td>4.0</td>\n",
       "      <td>2</td>\n",
       "      <td>50.00%</td>\n",
       "    </tr>\n",
       "  </tbody>\n",
       "</table>\n",
       "</div>"
      ],
      "text/plain": [
       "   categories_count  num_active active_cvr\n",
       "4               5.0           1    100.00%\n",
       "2               3.0           8     80.00%\n",
       "0               1.0         411     57.81%\n",
       "1               2.0          19     55.88%\n",
       "3               4.0           2     50.00%"
      ]
     },
     "execution_count": 501,
     "metadata": {},
     "output_type": "execute_result"
    }
   ],
   "source": [
    "ct_cvr = train_df[['categories_count', 'active']].groupby(['categories_count'], as_index=False).mean().sort_values(by='active', ascending=False).rename(columns={'active':'cvr'})\n",
    "ct_cvr\n",
    "\n",
    "ct = train_df[['categories_count','active']].groupby(['categories_count'], as_index=False).sum().rename(columns={'active':'num_active'})\n",
    "\n",
    "ct = pd.merge(ct,ct_cvr).sort_values(by='cvr', ascending=False)\n",
    "ct['active_cvr'] = pd.Series([\"{0:.2f}%\".format(val * 100) for val in ct['cvr']], index = ct.index)\n",
    "#Sample is too small, let's select number send contract greater than 20.\n",
    "#ct.loc[ct['num_sent'] > 20]\n",
    "ct = ct.iloc[:,[0,1,3]]\n",
    "ct"
   ]
  },
  {
   "cell_type": "code",
   "execution_count": 502,
   "metadata": {},
   "outputs": [
    {
     "data": {
      "text/plain": [
       "<matplotlib.axes._subplots.AxesSubplot at 0x1a250e9a58>"
      ]
     },
     "execution_count": 502,
     "metadata": {},
     "output_type": "execute_result"
    },
    {
     "data": {
      "image/png": "[encoded data removed]",
      "text/plain": [
       "<Figure size 432x288 with 1 Axes>"
      ]
     },
     "metadata": {},
     "output_type": "display_data"
    }
   ],
   "source": [
    "sns.barplot(x='categories_count', y='num_active', data = ct, palette=\"Paired\")"
   ]
  },
  {
   "cell_type": "markdown",
   "metadata": {},
   "source": [
    "***Suggestions 5.2***   \n",
    "More diversified, higher cvr. But sample size is very small, it's still hard to tell. \n",
    "No suggestion here."
   ]
  },
  {
   "cell_type": "markdown",
   "metadata": {},
   "source": [
    "## Analyze by visualizing data\n",
    "\n",
    "Now we can continue confirming some of our assumptions using visualizations for analyzing the data.\n",
    "\n",
    "Let us start from looking at the most updated **Location of BA**\n"
   ]
  },
  {
   "cell_type": "code",
   "execution_count": 503,
   "metadata": {},
   "outputs": [
    {
     "name": "stdout",
     "output_type": "stream",
     "text": [
      "High five! You successfully sent some data to your account on plotly. View your plot in your browser at https://plot.ly/~summerxia/0 or inside your plot.ly account where it is named 'User locations'\n"
     ]
    },
    {
     "data": {
      "text/html": [
       "<iframe id=\"igraph\" scrolling=\"no\" style=\"border:none;\" seamless=\"seamless\" src=\"https://plot.ly/~summerxia/0.embed\" height=\"525px\" width=\"100%\"></iframe>"
      ],
      "text/plain": [
       "<plotly.tools.PlotlyDisplay object>"
      ]
     },
     "execution_count": 503,
     "metadata": {},
     "output_type": "execute_result"
    }
   ],
   "source": [
    "plotly.tools.set_credentials_file(username='summerxia', api_key='mPpSzFBTrmzhSEsABwrJ')\n",
    "\n",
    "filtered_data = train_df[(train_df['lat'].notnull())\n",
    "                          & (train_df['long'].notnull())]\n",
    "lat_vals = filtered_data['lat'].tolist()\n",
    "long_vals = filtered_data['long'].tolist()\n",
    "active_vals = filtered_data['active'].tolist()\n",
    "\n",
    "# inactive : black\n",
    "#color_vals = list(map(lambda x: 0.7 if x == 1 else 0, active_vals))\n",
    "# inactive : blue\n",
    "#color_vals = list(map(lambda x: 0.7 if x == 1 else 0.2, active_vals))\n",
    "# inactive : grey\n",
    "color_vals = list(map(lambda x: 0.7 if x == 1 else 0.5, active_vals))\n",
    "\n",
    "data = [\n",
    "    go.Scattermapbox(\n",
    "        lat=lat_vals,\n",
    "        lon=long_vals,\n",
    "        mode='markers',\n",
    "        marker=dict(\n",
    "            size=9,\n",
    "            #color='rgb(255, 0, 0)',\n",
    "            color=color_vals,\n",
    "            colorscale=[[0, 'rgb(0,0,0)'],\n",
    "                        [0.2, 'rgb(0, 0, 255)'],\n",
    "                        [0.5, 'rgb(47, 79, 79)'],\n",
    "                        [0.7, 'rgb(255, 0, 0)'],\n",
    "                        [1, 'rgb(255,255,255)']],\n",
    "            cmax=1,\n",
    "            cmin=0,\n",
    "            opacity=0.7\n",
    "        ),\n",
    "    )\n",
    "]\n",
    "\n",
    "layout = go.Layout(\n",
    "    autosize=True,\n",
    "    hovermode='closest',\n",
    "    mapbox=dict(\n",
    "        accesstoken='pk.eyJ1Ijoid2luZHNub3ciLCJhIjoiY2prM25xd3dtMDhweTN2bWVidGVpeGFwZCJ9.MiHqwxivv3xMmSerNUtWHg',\n",
    "        bearing=0,\n",
    "        center=dict(\n",
    "            lat=40.7410135,\n",
    "            lon=-73.9897234\n",
    "        ),\n",
    "        pitch=0,\n",
    "        zoom=10,\n",
    "    ),\n",
    ")\n",
    "\n",
    "fig = dict(data=data, layout=layout)\n",
    "py.iplot(fig, filename='User locations')\n",
    "\n"
   ]
  },
  {
   "cell_type": "code",
   "execution_count": null,
   "metadata": {},
   "outputs": [],
   "source": []
  },
  {
   "cell_type": "code",
   "execution_count": 504,
   "metadata": {},
   "outputs": [
    {
     "data": {
      "text/plain": [
       "<seaborn.axisgrid.FacetGrid at 0x1a2ae9c7b8>"
      ]
     },
     "execution_count": 504,
     "metadata": {},
     "output_type": "execute_result"
    },
    {
     "data": {
      "image/png": "[encoded data removed]",
      "text/plain": [
       "<Figure size 432x216 with 2 Axes>"
      ]
     },
     "metadata": {},
     "output_type": "display_data"
    }
   ],
   "source": [
    "g = sns.FacetGrid(train_df, col = 'active')\n",
    "g.map(plt.hist, 'age', bins = 15)\n",
    "\n"
   ]
  },
  {
   "cell_type": "code",
   "execution_count": 505,
   "metadata": {},
   "outputs": [
    {
     "data": {
      "text/plain": [
       "<seaborn.axisgrid.FacetGrid at 0x10ef55240>"
      ]
     },
     "execution_count": 505,
     "metadata": {},
     "output_type": "execute_result"
    },
    {
     "data": {
      "image/png": "[encoded data removed]",
      "text/plain": [
       "<Figure size 432x216 with 2 Axes>"
      ]
     },
     "metadata": {},
     "output_type": "display_data"
    }
   ],
   "source": [
    "sd = sns.FacetGrid(train_df, col = 'active')\n",
    "sd.map(plt.hist, 'int_sign_duration', bins =30)"
   ]
  },
  {
   "cell_type": "code",
   "execution_count": 506,
   "metadata": {},
   "outputs": [
    {
     "data": {
      "text/plain": [
       "<seaborn.axisgrid.FacetGrid at 0x1a2b1ba128>"
      ]
     },
     "execution_count": 506,
     "metadata": {},
     "output_type": "execute_result"
    },
    {
     "data": {
      "image/png": "[encoded data removed]",
      "text/plain": [
       "<Figure size 432x216 with 2 Axes>"
      ]
     },
     "metadata": {},
     "output_type": "display_data"
    }
   ],
   "source": [
    "sd = sns.FacetGrid(train_df, col = 'active')\n",
    "sd.map(plt.hist, 'video_int_dur', bins =20)"
   ]
  },
  {
   "cell_type": "markdown",
   "metadata": {},
   "source": [
    "## Heatmap,  correlation between features?"
   ]
  },
  {
   "cell_type": "code",
   "execution_count": 507,
   "metadata": {},
   "outputs": [
    {
     "data": {
      "text/plain": [
       "<matplotlib.axes._subplots.AxesSubplot at 0x1a2bed3b38>"
      ]
     },
     "execution_count": 507,
     "metadata": {},
     "output_type": "execute_result"
    },
    {
     "data": {
      "image/png": "[encoded data removed]",
      "text/plain": [
       "<Figure size 1008x864 with 2 Axes>"
      ]
     },
     "metadata": {},
     "output_type": "display_data"
    }
   ],
   "source": [
    "colormap = plt.cm.RdBu\n",
    "plt.figure(figsize=(14,12))\n",
    "plt.title('Correlation of Features', y=1.05, size=15)\n",
    "sns.heatmap(train_df.corr(),linewidths=0.1,vmax=1.0, \n",
    "            square=True, cmap=colormap, linecolor='white', annot=True)"
   ]
  },
  {
   "cell_type": "code",
   "execution_count": 508,
   "metadata": {},
   "outputs": [
    {
     "data": {
      "image/png": "[encoded data removed]",
      "text/plain": [
       "<Figure size 432x432 with 1 Axes>"
      ]
     },
     "metadata": {},
     "output_type": "display_data"
    }
   ],
   "source": [
    "#Plot with respect to video-int duration, age\n",
    "\n",
    "sepalPlt = sns.FacetGrid(train_df, hue=\"active\", size=6).map(plt.scatter, \"video_int_dur\", \"age\")\n",
    "plt.legend(loc='upper left');\n"
   ]
  },
  {
   "cell_type": "code",
   "execution_count": 509,
   "metadata": {},
   "outputs": [],
   "source": [
    "#Zoom in, trying to find group, but.."
   ]
  },
  {
   "cell_type": "code",
   "execution_count": 510,
   "metadata": {},
   "outputs": [
    {
     "data": {
      "image/png": "[encoded data removed]",
      "text/plain": [
       "<Figure size 401.625x360 with 1 Axes>"
      ]
     },
     "metadata": {},
     "output_type": "display_data"
    }
   ],
   "source": [
    "g = sns.lmplot(x=\"int_sign_duration\", y=\"video_int_dur\", hue=\"active\",\n",
    "               truncate=True, data=train_df.loc[train_df['int_sign_duration']<30])\n"
   ]
  },
  {
   "cell_type": "markdown",
   "metadata": {},
   "source": [
    "### Converting a categorical feature and analyze\n",
    "\n",
    "Now we can convert features which contain strings to numerical values.  \n",
    "Let us start by converting Gender feature to a new feature where female=1 and male=0"
   ]
  },
  {
   "cell_type": "code",
   "execution_count": 511,
   "metadata": {},
   "outputs": [
    {
     "data": {
      "text/plain": [
       "(821, 31)"
      ]
     },
     "execution_count": 511,
     "metadata": {},
     "output_type": "execute_result"
    }
   ],
   "source": [
    "\n",
    "#train_df['gender'] = train_df['gender'].dropna().map( {'female': 1, 'male': 0} ).astype(int)\n",
    "\n",
    "#for dataset in combine:\n",
    "#    dataset['gender'] = dataset['gender'].map( {'female': 1, 'male': 0} ).astype(int)\n",
    "\n",
    "#train_df.head()\n",
    "\n",
    "combine['gender'].replace('female',1,inplace=True)\n",
    "combine['gender'].replace('male',0,inplace=True)\n",
    "train_df.shape"
   ]
  },
  {
   "cell_type": "code",
   "execution_count": 512,
   "metadata": {},
   "outputs": [
    {
     "data": {
      "text/plain": [
       "1026"
      ]
     },
     "execution_count": 512,
     "metadata": {},
     "output_type": "execute_result"
    }
   ],
   "source": [
    "combine['age_group'].replace('0-12',0, inplace=True)\n",
    "combine['age_group'].replace('13-17',1, inplace=True)\n",
    "combine['age_group'].replace('18-24',2, inplace=True)\n",
    "combine['age_group'].replace('25-34',3, inplace=True)\n",
    "combine['age_group'].replace('35+',4, inplace=True)\n",
    "\n",
    "\n",
    "combine['social_follower_cat'].replace('<1000',0, inplace = True)\n",
    "combine['social_follower_cat'].replace('1000-3000',1, inplace = True)\n",
    "combine['social_follower_cat'].replace('3000-6000',2, inplace = True)\n",
    "combine['social_follower_cat'].replace('6000-10000',3, inplace = True)\n",
    "combine['social_follower_cat'].replace('10000-20000',4, inplace = True)\n",
    "combine['social_follower_cat'].replace('>20000',5, inplace = True)\n",
    "\n",
    "\n",
    "combine['firework_follower_cat'].replace('<20',0, inplace = True)\n",
    "combine['firework_follower_cat'].replace('20-60',1, inplace = True)\n",
    "combine['firework_follower_cat'].replace('60-120',2, inplace = True)\n",
    "combine['firework_follower_cat'].replace('120-200',3, inplace = True)\n",
    "combine['firework_follower_cat'].replace('>200',4, inplace = True)\n",
    "\n",
    "\n",
    "combine['source'].replace('instagram',0, inplace = True)\n",
    "combine['source'].replace('youtube',1, inplace = True)\n",
    "combine['source'].replace('facebook',2, inplace = True)\n",
    "combine['source'].replace('musicaly',3, inplace = True)\n",
    "combine['source'].replace('other',4, inplace = True)\n",
    "\n",
    "train_df = combine[mask]\n",
    "test_df = combine[~mask]\n",
    "len(combine)"
   ]
  },
  {
   "cell_type": "code",
   "execution_count": 513,
   "metadata": {},
   "outputs": [
    {
     "data": {
      "image/png": "[encoded data removed]",
      "text/plain": [
       "<Figure size 432x432 with 1 Axes>"
      ]
     },
     "metadata": {},
     "output_type": "display_data"
    }
   ],
   "source": [
    "#combine['social_follower_cat']\n",
    "\n",
    "#Plot with respect to age_group, social_follower_cat, firework_follower_cat, source\n",
    "# TRY HERE!!\n",
    "sepalPlt = sns.FacetGrid(train_df, hue=\"active\", size=6).map(plt.scatter, \"source\", \"age\")\n",
    "plt.legend(loc='upper left');"
   ]
  },
  {
   "cell_type": "markdown",
   "metadata": {},
   "source": [
    "## Social Media Followers"
   ]
  },
  {
   "cell_type": "code",
   "execution_count": 514,
   "metadata": {},
   "outputs": [
    {
     "data": {
      "text/html": [
       "<div>\n",
       "<style scoped>\n",
       "    .dataframe tbody tr th:only-of-type {\n",
       "        vertical-align: middle;\n",
       "    }\n",
       "\n",
       "    .dataframe tbody tr th {\n",
       "        vertical-align: top;\n",
       "    }\n",
       "\n",
       "    .dataframe thead th {\n",
       "        text-align: right;\n",
       "    }\n",
       "</style>\n",
       "<table border=\"1\" class=\"dataframe\">\n",
       "  <thead>\n",
       "    <tr style=\"text-align: right;\">\n",
       "      <th></th>\n",
       "      <th>social_follower_cat</th>\n",
       "      <th>num_active</th>\n",
       "      <th>active_cvr</th>\n",
       "    </tr>\n",
       "  </thead>\n",
       "  <tbody>\n",
       "    <tr>\n",
       "      <th>0</th>\n",
       "      <td>0.0</td>\n",
       "      <td>68</td>\n",
       "      <td>62.96%</td>\n",
       "    </tr>\n",
       "    <tr>\n",
       "      <th>3</th>\n",
       "      <td>3.0</td>\n",
       "      <td>48</td>\n",
       "      <td>60.00%</td>\n",
       "    </tr>\n",
       "    <tr>\n",
       "      <th>1</th>\n",
       "      <td>1.0</td>\n",
       "      <td>128</td>\n",
       "      <td>58.72%</td>\n",
       "    </tr>\n",
       "    <tr>\n",
       "      <th>2</th>\n",
       "      <td>2.0</td>\n",
       "      <td>81</td>\n",
       "      <td>56.64%</td>\n",
       "    </tr>\n",
       "    <tr>\n",
       "      <th>4</th>\n",
       "      <td>4.0</td>\n",
       "      <td>56</td>\n",
       "      <td>55.45%</td>\n",
       "    </tr>\n",
       "    <tr>\n",
       "      <th>5</th>\n",
       "      <td>5.0</td>\n",
       "      <td>82</td>\n",
       "      <td>50.93%</td>\n",
       "    </tr>\n",
       "  </tbody>\n",
       "</table>\n",
       "</div>"
      ],
      "text/plain": [
       "   social_follower_cat  num_active active_cvr\n",
       "0                  0.0          68     62.96%\n",
       "3                  3.0          48     60.00%\n",
       "1                  1.0         128     58.72%\n",
       "2                  2.0          81     56.64%\n",
       "4                  4.0          56     55.45%\n",
       "5                  5.0          82     50.93%"
      ]
     },
     "execution_count": 514,
     "metadata": {},
     "output_type": "execute_result"
    }
   ],
   "source": [
    "sfc_cvr = train_df[['social_follower_cat', 'active']].groupby(['social_follower_cat'], as_index=False).mean().sort_values(by='active', ascending=False).rename(columns={'active':'cvr'})\n",
    "sfc_cvr\n",
    "\n",
    "sfc = train_df[['social_follower_cat','active']].groupby(['social_follower_cat'], as_index=False).sum().rename(columns={'active':'num_active'})\n",
    "\n",
    "sfc = pd.merge(sfc,sfc_cvr).sort_values(by='cvr', ascending=False)\n",
    "sfc['active_cvr'] = pd.Series([\"{0:.2f}%\".format(val * 100) for val in sfc['cvr']], index = sfc.index)\n",
    "\n",
    "sfc = sfc.iloc[:,[0,1,3]]\n",
    "sfc"
   ]
  },
  {
   "cell_type": "code",
   "execution_count": 515,
   "metadata": {},
   "outputs": [
    {
     "data": {
      "text/plain": [
       "<matplotlib.axes._subplots.AxesSubplot at 0x1a2c0eacf8>"
      ]
     },
     "execution_count": 515,
     "metadata": {},
     "output_type": "execute_result"
    },
    {
     "data": {
      "image/png": "[encoded data removed]",
      "text/plain": [
       "<Figure size 432x288 with 1 Axes>"
      ]
     },
     "metadata": {},
     "output_type": "display_data"
    }
   ],
   "source": [
    "sns.barplot(x='social_follower_cat', y='num_active', data=sfc, palette=\"Paired\")"
   ]
  },
  {
   "cell_type": "markdown",
   "metadata": {},
   "source": [
    "***Suggestions***  \n",
    "Social Media Follower number **<1000** has highest cvr, followed by **6000-10000**, **1000-3000**\n",
    "\n"
   ]
  },
  {
   "cell_type": "markdown",
   "metadata": {},
   "source": [
    "## Social Media/ Firework followers"
   ]
  },
  {
   "cell_type": "code",
   "execution_count": 516,
   "metadata": {},
   "outputs": [],
   "source": [
    "combine['social_div_firework'] = combine['social_media_followers_count']/combine['followers_count']\n",
    "# WORKING ON (sign-interview) duration, social_media_followers/firework_followers"
   ]
  },
  {
   "cell_type": "code",
   "execution_count": 517,
   "metadata": {},
   "outputs": [
    {
     "data": {
      "text/html": [
       "<div>\n",
       "<style scoped>\n",
       "    .dataframe tbody tr th:only-of-type {\n",
       "        vertical-align: middle;\n",
       "    }\n",
       "\n",
       "    .dataframe tbody tr th {\n",
       "        vertical-align: top;\n",
       "    }\n",
       "\n",
       "    .dataframe thead th {\n",
       "        text-align: right;\n",
       "    }\n",
       "</style>\n",
       "<table border=\"1\" class=\"dataframe\">\n",
       "  <thead>\n",
       "    <tr style=\"text-align: right;\">\n",
       "      <th></th>\n",
       "      <th>user_id</th>\n",
       "      <th>social_media_followers_count</th>\n",
       "      <th>social_follower_cat</th>\n",
       "      <th>talent_categories</th>\n",
       "      <th>status</th>\n",
       "      <th>manager_id</th>\n",
       "      <th>interviewed_date</th>\n",
       "      <th>signed_date</th>\n",
       "      <th>int_sign_duration</th>\n",
       "      <th>active</th>\n",
       "      <th>...</th>\n",
       "      <th>lat</th>\n",
       "      <th>long</th>\n",
       "      <th>potential</th>\n",
       "      <th>categories_count</th>\n",
       "      <th>first_category</th>\n",
       "      <th>second_category</th>\n",
       "      <th>third_category</th>\n",
       "      <th>fourth_category</th>\n",
       "      <th>fifth_category</th>\n",
       "      <th>social_div_firework</th>\n",
       "    </tr>\n",
       "  </thead>\n",
       "  <tbody>\n",
       "    <tr>\n",
       "      <th>0</th>\n",
       "      <td>20957</td>\n",
       "      <td>556.0</td>\n",
       "      <td>0.0</td>\n",
       "      <td>[\"performance\"]</td>\n",
       "      <td>active_talent</td>\n",
       "      <td>47.0</td>\n",
       "      <td>4/9/18</td>\n",
       "      <td>5/8/18</td>\n",
       "      <td>29.0</td>\n",
       "      <td>1</td>\n",
       "      <td>...</td>\n",
       "      <td>33.6878</td>\n",
       "      <td>-84.2507</td>\n",
       "      <td>0</td>\n",
       "      <td>1.0</td>\n",
       "      <td>performance</td>\n",
       "      <td>NaN</td>\n",
       "      <td>NaN</td>\n",
       "      <td>NaN</td>\n",
       "      <td>NaN</td>\n",
       "      <td>5.914894</td>\n",
       "    </tr>\n",
       "    <tr>\n",
       "      <th>1</th>\n",
       "      <td>229460</td>\n",
       "      <td>11100.0</td>\n",
       "      <td>4.0</td>\n",
       "      <td>NaN</td>\n",
       "      <td>followup</td>\n",
       "      <td>883.0</td>\n",
       "      <td>6/27/18</td>\n",
       "      <td>NaN</td>\n",
       "      <td>NaN</td>\n",
       "      <td>0</td>\n",
       "      <td>...</td>\n",
       "      <td>40.7910</td>\n",
       "      <td>-73.9256</td>\n",
       "      <td>0</td>\n",
       "      <td>NaN</td>\n",
       "      <td>NaN</td>\n",
       "      <td>NaN</td>\n",
       "      <td>NaN</td>\n",
       "      <td>NaN</td>\n",
       "      <td>NaN</td>\n",
       "      <td>inf</td>\n",
       "    </tr>\n",
       "    <tr>\n",
       "      <th>2</th>\n",
       "      <td>233142</td>\n",
       "      <td>4259.0</td>\n",
       "      <td>2.0</td>\n",
       "      <td>[\"lifestyle\"]</td>\n",
       "      <td>sent_contract</td>\n",
       "      <td>2536.0</td>\n",
       "      <td>6/26/18</td>\n",
       "      <td>NaN</td>\n",
       "      <td>NaN</td>\n",
       "      <td>0</td>\n",
       "      <td>...</td>\n",
       "      <td>40.9731</td>\n",
       "      <td>-73.9615</td>\n",
       "      <td>0</td>\n",
       "      <td>1.0</td>\n",
       "      <td>lifestyle</td>\n",
       "      <td>NaN</td>\n",
       "      <td>NaN</td>\n",
       "      <td>NaN</td>\n",
       "      <td>NaN</td>\n",
       "      <td>inf</td>\n",
       "    </tr>\n",
       "    <tr>\n",
       "      <th>3</th>\n",
       "      <td>9222</td>\n",
       "      <td>25500.0</td>\n",
       "      <td>5.0</td>\n",
       "      <td>[\"fashion\"]</td>\n",
       "      <td>active_talent</td>\n",
       "      <td>47.0</td>\n",
       "      <td>3/20/18</td>\n",
       "      <td>5/16/18</td>\n",
       "      <td>57.0</td>\n",
       "      <td>1</td>\n",
       "      <td>...</td>\n",
       "      <td>18.5333</td>\n",
       "      <td>73.8667</td>\n",
       "      <td>0</td>\n",
       "      <td>1.0</td>\n",
       "      <td>fashion</td>\n",
       "      <td>NaN</td>\n",
       "      <td>NaN</td>\n",
       "      <td>NaN</td>\n",
       "      <td>NaN</td>\n",
       "      <td>271.276596</td>\n",
       "    </tr>\n",
       "    <tr>\n",
       "      <th>4</th>\n",
       "      <td>255779</td>\n",
       "      <td>27000.0</td>\n",
       "      <td>5.0</td>\n",
       "      <td>[\"fashion\"]</td>\n",
       "      <td>active_talent</td>\n",
       "      <td>42612.0</td>\n",
       "      <td>7/10/18</td>\n",
       "      <td>7/19/18</td>\n",
       "      <td>9.0</td>\n",
       "      <td>1</td>\n",
       "      <td>...</td>\n",
       "      <td>34.2023</td>\n",
       "      <td>-118.4468</td>\n",
       "      <td>0</td>\n",
       "      <td>1.0</td>\n",
       "      <td>fashion</td>\n",
       "      <td>NaN</td>\n",
       "      <td>NaN</td>\n",
       "      <td>NaN</td>\n",
       "      <td>NaN</td>\n",
       "      <td>9000.000000</td>\n",
       "    </tr>\n",
       "  </tbody>\n",
       "</table>\n",
       "<p>5 rows × 32 columns</p>\n",
       "</div>"
      ],
      "text/plain": [
       "   user_id  social_media_followers_count  social_follower_cat  \\\n",
       "0    20957                         556.0                  0.0   \n",
       "1   229460                       11100.0                  4.0   \n",
       "2   233142                        4259.0                  2.0   \n",
       "3     9222                       25500.0                  5.0   \n",
       "4   255779                       27000.0                  5.0   \n",
       "\n",
       "  talent_categories         status  manager_id interviewed_date signed_date  \\\n",
       "0   [\"performance\"]  active_talent        47.0           4/9/18      5/8/18   \n",
       "1               NaN       followup       883.0          6/27/18         NaN   \n",
       "2     [\"lifestyle\"]  sent_contract      2536.0          6/26/18         NaN   \n",
       "3       [\"fashion\"]  active_talent        47.0          3/20/18     5/16/18   \n",
       "4       [\"fashion\"]  active_talent     42612.0          7/10/18     7/19/18   \n",
       "\n",
       "   int_sign_duration  active         ...               lat      long  \\\n",
       "0               29.0       1         ...           33.6878  -84.2507   \n",
       "1                NaN       0         ...           40.7910  -73.9256   \n",
       "2                NaN       0         ...           40.9731  -73.9615   \n",
       "3               57.0       1         ...           18.5333   73.8667   \n",
       "4                9.0       1         ...           34.2023 -118.4468   \n",
       "\n",
       "  potential  categories_count  first_category second_category third_category  \\\n",
       "0         0               1.0     performance             NaN            NaN   \n",
       "1         0               NaN             NaN             NaN            NaN   \n",
       "2         0               1.0       lifestyle             NaN            NaN   \n",
       "3         0               1.0         fashion             NaN            NaN   \n",
       "4         0               1.0         fashion             NaN            NaN   \n",
       "\n",
       "   fourth_category  fifth_category  social_div_firework  \n",
       "0              NaN             NaN             5.914894  \n",
       "1              NaN             NaN                  inf  \n",
       "2              NaN             NaN                  inf  \n",
       "3              NaN             NaN           271.276596  \n",
       "4              NaN             NaN          9000.000000  \n",
       "\n",
       "[5 rows x 32 columns]"
      ]
     },
     "execution_count": 517,
     "metadata": {},
     "output_type": "execute_result"
    }
   ],
   "source": [
    "\n",
    "#train_df['social_div_firework']\n",
    "combine.head()"
   ]
  },
  {
   "cell_type": "markdown",
   "metadata": {},
   "source": [
    "## Now Drop \n",
    "the user_id, social_media_url and etc feature from datasets. "
   ]
  },
  {
   "cell_type": "code",
   "execution_count": 518,
   "metadata": {},
   "outputs": [],
   "source": [
    "combine = combine.drop(['talent_categories','status', 'manager_id', 'interviewed_date','signed_date', 'inserted_date_pst', 'state','country', 'first_category', 'user_id', 'lat','long','second_category','time_zone', 'int_sign_duration','third_category','fourth_category','fifth_category'], axis=1)"
   ]
  },
  {
   "cell_type": "code",
   "execution_count": 519,
   "metadata": {},
   "outputs": [],
   "source": [
    "train_df = combine[mask]\n",
    "test_df = combine[~mask]\n"
   ]
  },
  {
   "cell_type": "code",
   "execution_count": 520,
   "metadata": {},
   "outputs": [
    {
     "data": {
      "text/plain": [
       "<matplotlib.axes._subplots.AxesSubplot at 0x1a2c9b11d0>"
      ]
     },
     "execution_count": 520,
     "metadata": {},
     "output_type": "execute_result"
    },
    {
     "data": {
      "image/png": "[encoded data removed]",
      "text/plain": [
       "<Figure size 864x864 with 2 Axes>"
      ]
     },
     "metadata": {},
     "output_type": "display_data"
    }
   ],
   "source": [
    "\n",
    "corr = train_df.corr()\n",
    "corr_mat=train_df.corr(method='pearson')\n",
    "plt.figure(figsize=(12,12))\n",
    "sns.heatmap(corr_mat,vmax=1,square=True,annot=True,cmap='cubehelix')"
   ]
  },
  {
   "cell_type": "markdown",
   "metadata": {},
   "source": [
    "### Completing a numerical continuous feature\n",
    "\n",
    "Now we should start estimating and completing features with missing or null values. We will first do this for the Age feature.\n",
    "\n",
    "1. generate random numbers between mean and [standard deviation](https://en.wikipedia.org/wiki/Standard_deviation).\n",
    "2. More accurate way of guessing missing values is to use other correlated features. But from the heatmap, it seems features are all uncorrelated.\n",
    "\n",
    "---\n",
    "### working on it !!!"
   ]
  },
  {
   "cell_type": "markdown",
   "metadata": {},
   "source": [
    "## Fill with missing value with median value"
   ]
  },
  {
   "cell_type": "code",
   "execution_count": 521,
   "metadata": {},
   "outputs": [
    {
     "name": "stderr",
     "output_type": "stream",
     "text": [
      "/anaconda3/lib/python3.6/site-packages/pandas/core/generic.py:5430: SettingWithCopyWarning:\n",
      "\n",
      "\n",
      "A value is trying to be set on a copy of a slice from a DataFrame\n",
      "\n",
      "See the caveats in the documentation: http://pandas.pydata.org/pandas-docs/stable/indexing.html#indexing-view-versus-copy\n",
      "\n"
     ]
    },
    {
     "data": {
      "text/plain": [
       "(172, 708, 2)"
      ]
     },
     "execution_count": 521,
     "metadata": {},
     "output_type": "execute_result"
    }
   ],
   "source": [
    "train_df['social_media_followers_count'].fillna(train_df['social_media_followers_count'].dropna().median(), inplace=True)\n",
    "train_df['social_follower_cat'].fillna(train_df['social_follower_cat'].dropna().median(), inplace=True)\n",
    "train_df['age'].fillna(train_df['age'].dropna().median(), inplace=True)\n",
    "train_df['video_int_dur'].fillna(train_df['video_int_dur'].dropna().median(), inplace=True)\n",
    "\n",
    "train_df['age_group'].fillna(train_df['age_group'].dropna().median(), inplace=True)\n",
    "train_df['followers_count'].fillna(train_df['followers_count'].dropna().median(), inplace=True)\n",
    "train_df['firework_follower_cat'].fillna(train_df['firework_follower_cat'].dropna().median(), inplace=True)\n",
    "train_df['gender'].fillna(train_df['gender'].dropna().median(), inplace=True)\n",
    "train_df['categories_count'].fillna(train_df['categories_count'].dropna().min(), inplace=True)\n",
    "\n",
    "train_df = train_df[~train_df.isin([np.inf, -np.inf]).any(1)]\n",
    "train_df['social_div_firework'].fillna(train_df['social_div_firework'].dropna().median(), inplace=True)\n",
    "\n",
    "#train_df['social_div_firework'].replace(inf,train_df['social_div_firework'].dropna().median())\n",
    "train_df['social_div_firework'].replace('inf',train_df['social_div_firework'].dropna().median(),inplace=True)\n",
    "\n",
    "\n",
    "\n",
    "test_df['social_media_followers_count'].fillna(test_df['social_media_followers_count'].dropna().median(), inplace=True)\n",
    "test_df['social_follower_cat'].fillna(test_df['social_follower_cat'].dropna().median(), inplace=True)\n",
    "test_df['age'].fillna(test_df['age'].dropna().median(), inplace=True)\n",
    "test_df['video_int_dur'].fillna(test_df['video_int_dur'].dropna().median(), inplace=True)\n",
    "test_df['age_group'].fillna(test_df['age_group'].dropna().median(), inplace=True)\n",
    "test_df['followers_count'].fillna(test_df['followers_count'].dropna().median(), inplace=True)\n",
    "test_df['firework_follower_cat'].fillna(test_df['firework_follower_cat'].dropna().median(), inplace=True)\n",
    "test_df['gender'].fillna(test_df['gender'].dropna().median(), inplace=True)\n",
    "test_df['categories_count'].fillna(test_df['categories_count'].dropna().min(), inplace=True)\n",
    "\n",
    "test_df = test_df[~test_df.isin([np.inf, -np.inf]).any(1)]\n",
    "test_df['social_div_firework'].fillna(test_df['social_div_firework'].dropna().median(), inplace=True)\n",
    "test_df['social_div_firework'].replace('inf',test_df['social_div_firework'].dropna().median(),inplace=True)\n",
    "\n",
    "combine = [train_df, test_df]\n",
    "len(test_df), len(train_df), len(combine)\n",
    "#test_df\n"
   ]
  },
  {
   "cell_type": "code",
   "execution_count": 522,
   "metadata": {},
   "outputs": [],
   "source": [
    "pd.set_option('display.max_rows', 1500)\n",
    "#print(train_df['social_media_followers_count'])"
   ]
  },
  {
   "cell_type": "markdown",
   "metadata": {},
   "source": [
    "## Split Train and Test Group (X,Y)"
   ]
  },
  {
   "cell_type": "code",
   "execution_count": 523,
   "metadata": {},
   "outputs": [
    {
     "data": {
      "text/plain": [
       "((708, 13), (708,), (172, 13), (172,))"
      ]
     },
     "execution_count": 523,
     "metadata": {},
     "output_type": "execute_result"
    }
   ],
   "source": [
    "# Already DID!\n",
    "#train_size = round(len(train_df)*0.8,0)\n",
    "#test_size = len(train_df)-train_size\n",
    "#train_group = train_df[1:609]\n",
    "#test_group = train_df[610:718]\n",
    "X_train = train_df.drop(\"active\", axis=1)\n",
    "Y_train = train_df[\"active\"]\n",
    "X_test  = test_df.drop(\"active\", axis=1).copy()\n",
    "Y_test = test_df[\"active\"]\n",
    "X_train.shape, Y_train.shape, X_test.shape, Y_test.shape"
   ]
  },
  {
   "cell_type": "markdown",
   "metadata": {},
   "source": [
    "### Normalization\n",
    "Standardization of a dataset is a common requirement for many machine learning estimators: they might behave badly if the individual feature do not more or less look like standard normally distributed data (e.g. Gaussian with 0 mean and unit variance)."
   ]
  },
  {
   "cell_type": "code",
   "execution_count": 524,
   "metadata": {},
   "outputs": [],
   "source": [
    "# Normalize feature set\n",
    "from sklearn import preprocessing\n",
    "\n",
    "standard_scaler = preprocessing.StandardScaler().fit(X_train)\n",
    "scaled_values = standard_scaler.transform(X_train)\n",
    "X_train_norm = X_train.copy()\n",
    "X_train_norm.loc[:,:] = scaled_values\n",
    "\n",
    "scaled_values = standard_scaler.transform(X_test) \n",
    "X_test_norm = X_test.copy()\n",
    "X_test_norm.loc[:,:] = scaled_values"
   ]
  },
  {
   "cell_type": "markdown",
   "metadata": {},
   "source": [
    "## Model, predict and solve\n",
    "\n",
    "Now we are ready to train a model and predict the required solution. There are 60+ predictive modelling algorithms to choose from. We must understand the type of problem and solution requirement to narrow down to a select few models which we can evaluate. Our problem is a classification and regression problem. We want to identify relationship between output (active or not) with other variables or features (gender, age, followers...). We are also perfoming a category of machine learning which is called supervised learning as we are training our model with a given dataset. With these two criteria - Supervised Learning plus Classification and Regression, we can narrow down our choice of models to a few. These include:\n",
    "\n",
    "- Logistic Regression\n",
    "- KNN or k-Nearest Neighbors\n",
    "- Support Vector Machines\n",
    "- Naive Bayes classifier\n",
    "- Decision Tree\n",
    "- Random Forrest\n",
    "- Perceptron\n",
    "- Artificial neural network\n",
    "- RVM or Relevance Vector Machine"
   ]
  },
  {
   "cell_type": "markdown",
   "metadata": {},
   "source": [
    "Logistic Regression is a useful model to run early in the workflow. Logistic regression measures the relationship between the categorical dependent variable (feature) and one or more independent variables (features) by estimating probabilities using a logistic function, which is the cumulative logistic distribution. Reference [Wikipedia](https://en.wikipedia.org/wiki/Logistic_regression)."
   ]
  },
  {
   "cell_type": "markdown",
   "metadata": {},
   "source": [
    "Here, from the heatmap, we can see that variables are independent of each other. That is, the model should have little or no multicollinearity.\n",
    "However, logistic regression needs large sample size. Here, our sample size is **not large* enough."
   ]
  },
  {
   "cell_type": "code",
   "execution_count": 525,
   "metadata": {},
   "outputs": [
    {
     "name": "stdout",
     "output_type": "stream",
     "text": [
      "Train model coefficient(confidence score) is 65.68%.\n",
      "Test model coefficient(confidence score) is 71.51%.\n"
     ]
    }
   ],
   "source": [
    "# Logistic Regression\n",
    "logreg = LogisticRegression()\n",
    "logreg.fit(X_train_norm, Y_train)\n",
    "#Y_pred = logreg.predict(X_test_norm)\n",
    "acc_log = round(logreg.score(X_train_norm, Y_train) * 100, 2)\n",
    "test_log = round(logreg.score(X_test_norm, Y_test) * 100,2)\n",
    "print(f'Train model coefficient(confidence score) is {acc_log}%.')\n",
    "print(f'Test model coefficient(confidence score) is {test_log}%.')"
   ]
  },
  {
   "cell_type": "code",
   "execution_count": 526,
   "metadata": {},
   "outputs": [
    {
     "data": {
      "text/html": [
       "<div>\n",
       "<style scoped>\n",
       "    .dataframe tbody tr th:only-of-type {\n",
       "        vertical-align: middle;\n",
       "    }\n",
       "\n",
       "    .dataframe tbody tr th {\n",
       "        vertical-align: top;\n",
       "    }\n",
       "\n",
       "    .dataframe thead th {\n",
       "        text-align: right;\n",
       "    }\n",
       "</style>\n",
       "<table border=\"1\" class=\"dataframe\">\n",
       "  <thead>\n",
       "    <tr style=\"text-align: right;\">\n",
       "      <th></th>\n",
       "      <th>Feature</th>\n",
       "      <th>Correlation</th>\n",
       "    </tr>\n",
       "  </thead>\n",
       "  <tbody>\n",
       "    <tr>\n",
       "      <th>9</th>\n",
       "      <td>firework_follower_cat</td>\n",
       "      <td>0.822759</td>\n",
       "    </tr>\n",
       "    <tr>\n",
       "      <th>7</th>\n",
       "      <td>followers_count</td>\n",
       "      <td>0.232335</td>\n",
       "    </tr>\n",
       "    <tr>\n",
       "      <th>3</th>\n",
       "      <td>sent</td>\n",
       "      <td>0.226854</td>\n",
       "    </tr>\n",
       "    <tr>\n",
       "      <th>4</th>\n",
       "      <td>age</td>\n",
       "      <td>0.169696</td>\n",
       "    </tr>\n",
       "    <tr>\n",
       "      <th>11</th>\n",
       "      <td>categories_count</td>\n",
       "      <td>0.094615</td>\n",
       "    </tr>\n",
       "    <tr>\n",
       "      <th>6</th>\n",
       "      <td>gender</td>\n",
       "      <td>0.004042</td>\n",
       "    </tr>\n",
       "    <tr>\n",
       "      <th>8</th>\n",
       "      <td>video_int_dur</td>\n",
       "      <td>0.003210</td>\n",
       "    </tr>\n",
       "    <tr>\n",
       "      <th>12</th>\n",
       "      <td>social_div_firework</td>\n",
       "      <td>0.001736</td>\n",
       "    </tr>\n",
       "    <tr>\n",
       "      <th>1</th>\n",
       "      <td>social_follower_cat</td>\n",
       "      <td>-0.041446</td>\n",
       "    </tr>\n",
       "    <tr>\n",
       "      <th>2</th>\n",
       "      <td>source</td>\n",
       "      <td>-0.064697</td>\n",
       "    </tr>\n",
       "    <tr>\n",
       "      <th>10</th>\n",
       "      <td>potential</td>\n",
       "      <td>-0.154323</td>\n",
       "    </tr>\n",
       "    <tr>\n",
       "      <th>5</th>\n",
       "      <td>age_group</td>\n",
       "      <td>-0.183461</td>\n",
       "    </tr>\n",
       "    <tr>\n",
       "      <th>0</th>\n",
       "      <td>social_media_followers_count</td>\n",
       "      <td>-0.299677</td>\n",
       "    </tr>\n",
       "  </tbody>\n",
       "</table>\n",
       "</div>"
      ],
      "text/plain": [
       "                         Feature  Correlation\n",
       "9          firework_follower_cat     0.822759\n",
       "7                followers_count     0.232335\n",
       "3                           sent     0.226854\n",
       "4                            age     0.169696\n",
       "11              categories_count     0.094615\n",
       "6                         gender     0.004042\n",
       "8                  video_int_dur     0.003210\n",
       "12           social_div_firework     0.001736\n",
       "1            social_follower_cat    -0.041446\n",
       "2                         source    -0.064697\n",
       "10                     potential    -0.154323\n",
       "5                      age_group    -0.183461\n",
       "0   social_media_followers_count    -0.299677"
      ]
     },
     "execution_count": 526,
     "metadata": {},
     "output_type": "execute_result"
    }
   ],
   "source": [
    "coeff_df = pd.DataFrame(train_df.columns.delete(2))\n",
    "coeff_df.columns = ['Feature']\n",
    "coeff_df[\"Correlation\"] = pd.Series(logreg.coef_[0])\n",
    "coeff_df.sort_values(by='Correlation', ascending=False)"
   ]
  },
  {
   "cell_type": "markdown",
   "metadata": {},
   "source": [
    "Next we model using Support Vector Machines which are supervised learning models with associated learning algorithms that analyze data used for classification and regression analysis. Given a set of training samples, each marked as belonging to one or the other of **two categories**, an SVM training algorithm builds a model that assigns new test samples to one category or the other, making it a non-probabilistic binary linear classifier. Reference [Wikipedia](https://en.wikipedia.org/wiki/Support_vector_machine).\n",
    "\n",
    "Note that the model generates a confidence score which is higher than Logistics Regression model."
   ]
  },
  {
   "cell_type": "code",
   "execution_count": 527,
   "metadata": {},
   "outputs": [
    {
     "data": {
      "text/plain": [
       "69.77"
      ]
     },
     "execution_count": 527,
     "metadata": {},
     "output_type": "execute_result"
    }
   ],
   "source": [
    "# Support Vector Machines\n",
    "\n",
    "svc = SVC()\n",
    "svc.fit(X_train_norm, Y_train)\n",
    "#Y_pred = svc.predict(X_test_norm)\n",
    "acc_svc = round(svc.score(X_test_norm, Y_test) * 100, 2)\n",
    "acc_svc"
   ]
  },
  {
   "cell_type": "markdown",
   "metadata": {},
   "source": [
    "In pattern recognition, the k-Nearest Neighbors algorithm (or k-NN for short) is a non-parametric method used for classification and regression. A sample is classified by a majority vote of its neighbors, with the sample being assigned to the class most common among its k nearest neighbors (k is a positive integer, typically small). If k = 1, then the object is simply assigned to the class of that single nearest neighbor. Reference [Wikipedia](https://en.wikipedia.org/wiki/K-nearest_neighbors_algorithm).\n",
    "\n",
    "KNN confidence score is better than Logistics Regression but worse than SVM."
   ]
  },
  {
   "cell_type": "code",
   "execution_count": 528,
   "metadata": {},
   "outputs": [
    {
     "data": {
      "text/plain": [
       "62.79"
      ]
     },
     "execution_count": 528,
     "metadata": {},
     "output_type": "execute_result"
    }
   ],
   "source": [
    "knn = KNeighborsClassifier(n_neighbors = 3)\n",
    "knn.fit(X_train_norm, Y_train)\n",
    "#Y_pred = knn.predict(X_test_norm)\n",
    "acc_knn = round(knn.score(X_test_norm, Y_test) * 100, 2)\n",
    "acc_knn"
   ]
  },
  {
   "cell_type": "markdown",
   "metadata": {},
   "source": [
    "In machine learning, naive Bayes classifiers are a family of simple probabilistic classifiers based on applying Bayes' theorem with strong (naive) independence assumptions between the features. Naive Bayes classifiers are highly scalable, requiring a number of parameters linear in the number of variables (features) in a learning problem. Reference [Wikipedia](https://en.wikipedia.org/wiki/Naive_Bayes_classifier).\n",
    "\n",
    "The model generated confidence score is the lowest among the models evaluated so far."
   ]
  },
  {
   "cell_type": "code",
   "execution_count": 529,
   "metadata": {},
   "outputs": [
    {
     "data": {
      "text/plain": [
       "43.02"
      ]
     },
     "execution_count": 529,
     "metadata": {},
     "output_type": "execute_result"
    }
   ],
   "source": [
    "# Gaussian Naive Bayes\n",
    "# no need to normalize\n",
    "gaussian = GaussianNB()\n",
    "gaussian.fit(X_train, Y_train)\n",
    "#Y_pred = gaussian.predict(X_test)\n",
    "acc_gaussian = round(gaussian.score(X_test, Y_test) * 100, 2)\n",
    "acc_gaussian"
   ]
  },
  {
   "cell_type": "markdown",
   "metadata": {},
   "source": [
    "The perceptron is an algorithm for supervised learning of binary classifiers (functions that can decide whether an input, represented by a vector of numbers, belongs to some specific class or not). It is a type of linear classifier, i.e. a classification algorithm that makes its predictions based on a linear predictor function combining a set of weights with the feature vector. The algorithm allows for online learning, in that it processes elements in the training set one at a time. Reference [Wikipedia](https://en.wikipedia.org/wiki/Perceptron)."
   ]
  },
  {
   "cell_type": "code",
   "execution_count": 530,
   "metadata": {},
   "outputs": [
    {
     "name": "stderr",
     "output_type": "stream",
     "text": [
      "/anaconda3/lib/python3.6/site-packages/sklearn/linear_model/stochastic_gradient.py:128: FutureWarning:\n",
      "\n",
      "max_iter and tol parameters have been added in <class 'sklearn.linear_model.perceptron.Perceptron'> in 0.19. If both are left unset, they default to max_iter=5 and tol=None. If tol is not None, max_iter defaults to max_iter=1000. From 0.21, default max_iter will be 1000, and default tol will be 1e-3.\n",
      "\n"
     ]
    },
    {
     "data": {
      "text/plain": [
       "48.84"
      ]
     },
     "execution_count": 530,
     "metadata": {},
     "output_type": "execute_result"
    }
   ],
   "source": [
    "# Perceptron\n",
    "\n",
    "perceptron = Perceptron()\n",
    "perceptron.fit(X_train_norm, Y_train)\n",
    "#Y_pred = perceptron.predict(X_test_norm)\n",
    "acc_perceptron = round(perceptron.score(X_test_norm, Y_test) * 100, 2)\n",
    "acc_perceptron"
   ]
  },
  {
   "cell_type": "code",
   "execution_count": 531,
   "metadata": {},
   "outputs": [
    {
     "data": {
      "text/plain": [
       "72.09"
      ]
     },
     "execution_count": 531,
     "metadata": {},
     "output_type": "execute_result"
    }
   ],
   "source": [
    "# Linear SVC\n",
    "\n",
    "linear_svc = LinearSVC()\n",
    "linear_svc.fit(X_train_norm, Y_train)\n",
    "#Y_pred = linear_svc.predict(X_test_norm)\n",
    "acc_linear_svc = round(linear_svc.score(X_test_norm, Y_test) * 100, 2)\n",
    "acc_linear_svc"
   ]
  },
  {
   "cell_type": "code",
   "execution_count": 532,
   "metadata": {},
   "outputs": [
    {
     "name": "stderr",
     "output_type": "stream",
     "text": [
      "/anaconda3/lib/python3.6/site-packages/sklearn/linear_model/stochastic_gradient.py:128: FutureWarning:\n",
      "\n",
      "max_iter and tol parameters have been added in <class 'sklearn.linear_model.stochastic_gradient.SGDClassifier'> in 0.19. If both are left unset, they default to max_iter=5 and tol=None. If tol is not None, max_iter defaults to max_iter=1000. From 0.21, default max_iter will be 1000, and default tol will be 1e-3.\n",
      "\n"
     ]
    },
    {
     "data": {
      "text/plain": [
       "56.98"
      ]
     },
     "execution_count": 532,
     "metadata": {},
     "output_type": "execute_result"
    }
   ],
   "source": [
    "# Stochastic Gradient Descent\n",
    "\n",
    "sgd = SGDClassifier()\n",
    "sgd.fit(X_train_norm, Y_train)\n",
    "#Y_pred = sgd.predict(X_test_norm)\n",
    "acc_sgd = round(sgd.score(X_test_norm, Y_test) * 100, 2)\n",
    "acc_sgd"
   ]
  },
  {
   "cell_type": "markdown",
   "metadata": {},
   "source": [
    "This model uses a decision tree as a predictive model which maps features (tree branches) to conclusions about the target value (tree leaves). Tree models where the target variable can take a finite set of values are called classification trees; in these tree structures, leaves represent class labels and branches represent conjunctions of features that lead to those class labels. Decision trees where the target variable can take continuous values (typically real numbers) are called regression trees. Reference [Wikipedia](https://en.wikipedia.org/wiki/Decision_tree_learning).\n",
    "\n",
    "The model confidence score is the highest among models evaluated so far."
   ]
  },
  {
   "cell_type": "code",
   "execution_count": 533,
   "metadata": {},
   "outputs": [
    {
     "data": {
      "text/plain": [
       "52.33"
      ]
     },
     "execution_count": 533,
     "metadata": {},
     "output_type": "execute_result"
    }
   ],
   "source": [
    "# Decision Tree\n",
    "# no need to normalize\n",
    "\n",
    "decision_tree = DecisionTreeClassifier()\n",
    "decision_tree.fit(X_train, Y_train)\n",
    "Y_pred = decision_tree.predict(X_test)\n",
    "acc_decision_tree = round(decision_tree.score(X_test, Y_test) * 100, 2)\n",
    "acc_decision_tree"
   ]
  },
  {
   "cell_type": "markdown",
   "metadata": {},
   "source": [
    "The next model Random Forests is one of the most popular. Random forests or random decision forests are an ensemble learning method for classification, regression and other tasks, that operate by constructing a multitude of decision trees (n_estimators=100) at training time and outputting the class that is the mode of the classes (classification) or mean prediction (regression) of the individual trees. Reference [Wikipedia](https://en.wikipedia.org/wiki/Random_forest).\n",
    "\n",
    "The model confidence score is the highest among models evaluated so far. We decide to use this model's output (Y_pred) for creating our competition submission of results."
   ]
  },
  {
   "cell_type": "code",
   "execution_count": 534,
   "metadata": {},
   "outputs": [
    {
     "data": {
      "text/plain": [
       "62.21"
      ]
     },
     "execution_count": 534,
     "metadata": {},
     "output_type": "execute_result"
    }
   ],
   "source": [
    "# Random Forest\n",
    "# no need to normalize\n",
    "\n",
    "random_forest = RandomForestClassifier(n_estimators=100)\n",
    "random_forest.fit(X_train, Y_train)\n",
    "Y_pred = random_forest.predict(X_test)\n",
    "random_forest.score(X_train, Y_train)\n",
    "acc_random_forest = round(random_forest.score(X_test, Y_test) * 100, 2)\n",
    "acc_random_forest"
   ]
  },
  {
   "cell_type": "markdown",
   "metadata": {},
   "source": [
    "### Model evaluation\n",
    "\n",
    "We can now rank our evaluation of all the models to choose the best one for our problem. While both Decision Tree and Random Forest score the same, we choose to use Random Forest as they correct for decision trees' habit of overfitting to their training set. "
   ]
  },
  {
   "cell_type": "code",
   "execution_count": 535,
   "metadata": {},
   "outputs": [
    {
     "data": {
      "text/html": [
       "<div>\n",
       "<style scoped>\n",
       "    .dataframe tbody tr th:only-of-type {\n",
       "        vertical-align: middle;\n",
       "    }\n",
       "\n",
       "    .dataframe tbody tr th {\n",
       "        vertical-align: top;\n",
       "    }\n",
       "\n",
       "    .dataframe thead th {\n",
       "        text-align: right;\n",
       "    }\n",
       "</style>\n",
       "<table border=\"1\" class=\"dataframe\">\n",
       "  <thead>\n",
       "    <tr style=\"text-align: right;\">\n",
       "      <th></th>\n",
       "      <th>Model</th>\n",
       "      <th>Score</th>\n",
       "    </tr>\n",
       "  </thead>\n",
       "  <tbody>\n",
       "    <tr>\n",
       "      <th>7</th>\n",
       "      <td>Linear SVC</td>\n",
       "      <td>72.09</td>\n",
       "    </tr>\n",
       "    <tr>\n",
       "      <th>0</th>\n",
       "      <td>Support Vector Machines</td>\n",
       "      <td>69.77</td>\n",
       "    </tr>\n",
       "    <tr>\n",
       "      <th>2</th>\n",
       "      <td>Logistic Regression</td>\n",
       "      <td>65.68</td>\n",
       "    </tr>\n",
       "    <tr>\n",
       "      <th>1</th>\n",
       "      <td>KNN</td>\n",
       "      <td>62.79</td>\n",
       "    </tr>\n",
       "    <tr>\n",
       "      <th>3</th>\n",
       "      <td>Random Forest</td>\n",
       "      <td>62.21</td>\n",
       "    </tr>\n",
       "    <tr>\n",
       "      <th>6</th>\n",
       "      <td>Stochastic Gradient Decent</td>\n",
       "      <td>56.98</td>\n",
       "    </tr>\n",
       "    <tr>\n",
       "      <th>8</th>\n",
       "      <td>Decision Tree</td>\n",
       "      <td>52.33</td>\n",
       "    </tr>\n",
       "    <tr>\n",
       "      <th>5</th>\n",
       "      <td>Perceptron</td>\n",
       "      <td>48.84</td>\n",
       "    </tr>\n",
       "    <tr>\n",
       "      <th>4</th>\n",
       "      <td>Naive Bayes</td>\n",
       "      <td>43.02</td>\n",
       "    </tr>\n",
       "  </tbody>\n",
       "</table>\n",
       "</div>"
      ],
      "text/plain": [
       "                        Model  Score\n",
       "7                  Linear SVC  72.09\n",
       "0     Support Vector Machines  69.77\n",
       "2         Logistic Regression  65.68\n",
       "1                         KNN  62.79\n",
       "3               Random Forest  62.21\n",
       "6  Stochastic Gradient Decent  56.98\n",
       "8               Decision Tree  52.33\n",
       "5                  Perceptron  48.84\n",
       "4                 Naive Bayes  43.02"
      ]
     },
     "execution_count": 535,
     "metadata": {},
     "output_type": "execute_result"
    }
   ],
   "source": [
    "models = pd.DataFrame({\n",
    "    'Model': ['Support Vector Machines', 'KNN', 'Logistic Regression', \n",
    "              'Random Forest', 'Naive Bayes', 'Perceptron', \n",
    "              'Stochastic Gradient Decent', 'Linear SVC', \n",
    "              'Decision Tree'],\n",
    "    'Score': [acc_svc, acc_knn, acc_log, \n",
    "              acc_random_forest, acc_gaussian, acc_perceptron, \n",
    "              acc_sgd, acc_linear_svc, acc_decision_tree]})\n",
    "models.sort_values(by='Score', ascending=False)"
   ]
  },
  {
   "cell_type": "code",
   "execution_count": 536,
   "metadata": {},
   "outputs": [
    {
     "data": {
      "text/plain": [
       "array(['social_media_followers_count', 'social_follower_cat', 'source',\n",
       "       'sent', 'age', 'age_group', 'gender', 'followers_count',\n",
       "       'video_int_dur', 'firework_follower_cat', 'potential',\n",
       "       'categories_count', 'social_div_firework'], dtype=object)"
      ]
     },
     "execution_count": 536,
     "metadata": {},
     "output_type": "execute_result"
    }
   ],
   "source": [
    "X_train_norm.columns.values"
   ]
  },
  {
   "cell_type": "markdown",
   "metadata": {},
   "source": [
    "###  Reduce Feature Set\n",
    "\n",
    "Reducing the number of features (dimensionality) is important in statistical learning. For many data sets with a large number of features and a limited number of observations, usually many features are not useful for producing a desired learning result and the limited observations may lead the learning algorithm to overfit to the noise. Reducing features can also save storage and computation time and increase comprehensibility.\n",
    "\n",
    "By reducing feature set, the most important features will be addressed, which are key factors impacting the target value.\n",
    "\n",
    "Given an external estimator that assigns weights to features (e.g., the coefficients of a linear model), recursive feature elimination (RFE) is to select features by recursively considering smaller and smaller sets of features. First, the estimator is trained on the initial set of features and the importance of each feature is obtained either through a coef_ attribute or through a feature_importances_ attribute. Then, the least important features are pruned from current set of features.That procedure is recursively repeated on the pruned set until the desired number of features to select is eventually reached."
   ]
  },
  {
   "cell_type": "code",
   "execution_count": 537,
   "metadata": {},
   "outputs": [
    {
     "name": "stdout",
     "output_type": "stream",
     "text": [
      "Optimal number of features : 4\n"
     ]
    },
    {
     "data": {
      "image/png": "[encoded data removed]",
      "text/plain": [
       "<Figure size 432x288 with 1 Axes>"
      ]
     },
     "metadata": {},
     "output_type": "display_data"
    }
   ],
   "source": [
    "from sklearn.model_selection import StratifiedKFold\n",
    "from sklearn.feature_selection import RFECV\n",
    "\n",
    "# Create the RFE object and compute a cross-validated score.\n",
    "logreg = LogisticRegression()\n",
    "\n",
    "# The \"accuracy\" scoring is proportional to the number of correct\n",
    "# classifications\n",
    "rfecv = RFECV(estimator=logreg, step=1, cv=StratifiedKFold(2), scoring='accuracy')\n",
    "rfecv.fit(X_train_norm, Y_train)\n",
    "\n",
    "print(\"Optimal number of features : %d\" % rfecv.n_features_)\n",
    "\n",
    "# Plot number of features VS. cross-validation scores\n",
    "plt.figure()\n",
    "plt.xlabel(\"Number of features selected\")\n",
    "plt.ylabel(\"Cross validation score (nb of correct classifications)\")\n",
    "plt.plot(range(1, len(rfecv.grid_scores_) + 1), rfecv.grid_scores_)\n",
    "plt.show()"
   ]
  },
  {
   "cell_type": "code",
   "execution_count": 538,
   "metadata": {},
   "outputs": [
    {
     "name": "stdout",
     "output_type": "stream",
     "text": [
      "['social_media_followers_count' 'sent' 'followers_count'\n",
      " 'firework_follower_cat']\n"
     ]
    }
   ],
   "source": [
    "sel_col = X_train_norm.columns.values[rfecv.ranking_ == 1]\n",
    "print(sel_col)"
   ]
  },
  {
   "cell_type": "code",
   "execution_count": 539,
   "metadata": {},
   "outputs": [
    {
     "name": "stdout",
     "output_type": "stream",
     "text": [
      "Train model coefficient is 66.1%.\n",
      "Test model coefficient is 70.35%.\n"
     ]
    }
   ],
   "source": [
    "X_train_norm_less = X_train_norm.loc[:, rfecv.ranking_ == 1]\n",
    "X_test_norm_less = X_test_norm.loc[:, rfecv.ranking_ == 1]\n",
    "\n",
    "logreg = LogisticRegression()\n",
    "logreg.fit(X_train_norm_less, Y_train)\n",
    "#Y_pred = logreg.predict(X_test_norm_less)\n",
    "acc_log = round(logreg.score(X_train_norm_less, Y_train) * 100, 2)\n",
    "test_log = round(logreg.score(X_test_norm_less, Y_test) * 100,2)\n",
    "print(f'Train model coefficient is {acc_log}%.')\n",
    "print(f'Test model coefficient is {test_log}%.')"
   ]
  },
  {
   "cell_type": "markdown",
   "metadata": {},
   "source": [
    "## Conclusion"
   ]
  },
  {
   "cell_type": "markdown",
   "metadata": {},
   "source": [
    " #### 1. Target more on Male, they are more likely to become active (3% higher than woman).\n",
    " #### 2. Script Musicaly, ppl put musicaly url are more likely to become active (20% higher than instagram).\n",
    " #### 3. Target more ppl in age_group 13- 17, 35+, and 18-24. They now have cvr greater than average. \n",
    " #### 4. Except for US, target more on Australia, United Kindom, Sweden, Canada, their cvr are higher than average.\n",
    " #### 5. Zoom in to US, except for the two big states CA and NY, target more on ppl from Florida, Illinois and Georgia, they have cv > 65%, perform better than ppl from the big two.\n",
    " #### 6. Ppl with \"Pet theme\" have highest cvr, followed by comedy and performace, dance. I would suggest add more pet theme hashtag.\n",
    " #### 7. Category more diversified, higher cvr. But sample size is very small, it's still hard to tell now.\n",
    " #### 8. Social media followers between 6k-10k are most likely to sign contract (67%), 7% more than the third cvr group(10k-20k). Second is <1000(66%), but we definitely don't want to target at them.\n",
    " #### 9. Among the 9 models, Linear SVC, SVM, Logistic regression, KNN and Random Forest perform well. \n",
    " #### 10. After reducing features to 4, confidence score of Logistic regression model is 70.35%.\n",
    "\n",
    "\n",
    " \n",
    " \n",
    " \n",
    " \n",
    " \n",
    " "
   ]
  },
  {
   "cell_type": "markdown",
   "metadata": {},
   "source": [
    "## Appendix"
   ]
  },
  {
   "cell_type": "markdown",
   "metadata": {},
   "source": [
    "### - SQL query\n",
    "WITH sent AS (\n",
    "    SELECT *, 1 sent\n",
    "    FROM user_data\n",
    "    WHERE user_id IN \n",
    "    (SELECT distinct(talent_events.user_id) AS talent_id\n",
    "    FROM talent_events\n",
    "    LEFT JOIN user_data statustime ON talent_events.user_id = statustime.user_id\n",
    "    WHERE props->>'to_status' = 'sent_contract'\n",
    "    )\n",
    "),\n",
    "\n",
    "interviewed AS (\n",
    "  SELECT user_data.user_id,  social_media_followers_count,\n",
    "  CASE WHEN  social_media_followers_count<=1000 THEN '<1000'\n",
    "      WHEN social_media_followers_count>20000 THEN '>20000'\n",
    "      WHEN social_media_followers_count>10000 THEN '10000-20000'\n",
    "      WHEN social_media_followers_count>6000 THEN '6000-10000'\n",
    "      WHEN social_media_followers_count>3000 THEN '3000-6000'\n",
    "      WHEN social_media_followers_count>1000 THEN '1000-3000'\n",
    "\n",
    "  END AS social_follower_cat,\n",
    "  talent_categories, status, manager_id, DATE(interviewed_at) AS interviewed_date,\n",
    "  DATE(signed_contract_at) AS signed_date, \n",
    "  DATE(signed_contract_at) - DATE(interviewed_at) AS int_sign_duration,\n",
    "  CASE WHEN strpos(status, 'active') > 0 THEN 1\n",
    "  ELSE 0\n",
    "  END AS active,\n",
    "CASE WHEN strpos(social_media_url, 'instagram') > 0 THEN 'instagram'\n",
    "   WHEN strpos(social_media_url, 'youtube') > 0 THEN 'youtube'\n",
    "   WHEN strpos(social_media_url, 'musical') > 0 THEN 'musicaly'\n",
    "   WHEN strpos(social_media_url, 'facebook') > 0 THEN 'facebook'\n",
    "       ELSE 'other'\n",
    "       END AS source\n",
    "  FROM user_data\n",
    "  WHERE user_data.user_id IN \n",
    "    (SELECT distinct(talent_events.user_id) AS talent_id\n",
    "    FROM talent_events\n",
    "    LEFT JOIN user_data statustime ON talent_events.user_id = statustime.user_id\n",
    "    WHERE interviewed_at is not null)\n",
    "    AND DATE(current_date) - DATE(interviewed_at) **> 2**\n",
    "),\n",
    "\n",
    "upload_first AS (\n",
    "SELECT creator_id, MIN(DATE(inserted_at)) AS video_upload_date\n",
    "FROM videos\n",
    "WHERE deleted_at IS NULL\n",
    "AND creator_id IN (SELECT DISTINCT(talent_events.user_id) AS talent_id\n",
    "    FROM talent_events\n",
    "    LEFT JOIN user_data statustime ON talent_events.user_id = statustime.user_id\n",
    "    WHERE interviewed_at is not null)\n",
    "GROUP BY creator_id\n",
    "ORDER BY creator_id\n",
    ")\n",
    "\n",
    "SELECT interviewed.*, COALESCE(st.sent, 0 ) AS sent, \n",
    "fu.inserted_date_pst, fu.age, fu.age_group, fu.region AS state,\n",
    "fu.country, fu.gender, fu.followers_count, (uf.video_upload_date - interviewed_date) AS video_int_dur,\n",
    "CASE WHEN fu.followers_count<=20 THEN '<20'\n",
    "  WHEN fu.followers_count>200 THEN '>200'\n",
    "  WHEN fu.followers_count>120 THEN '120-200'\n",
    "  WHEN fu.followers_count>60 THEN '60-120'\n",
    "  WHEN fu.followers_count>20 THEN '20-60'\n",
    "END AS firework_follower_cat,\n",
    "fu.time_zone, fu.lat, fu.long, COALESCE(potl.potential,0) AS potential,\n",
    "array_length(interviewed.talent_categories,1) AS categories_count, \n",
    "interviewed.talent_categories[1] AS first_category,\n",
    "interviewed.talent_categories[2] AS second_category,\n",
    "interviewed.talent_categories[3] AS third_category,\n",
    "interviewed.talent_categories[4] AS fourth_category,\n",
    "interviewed.talent_categories[5] AS fifth_category\n",
    "FROM interviewed\n",
    "LEFT JOIN upload_first uf ON uf.creator_id = interviewed.user_id\n",
    "LEFT JOIN sent st ON st.user_id = interviewed.user_id\n",
    "LEFT JOIN fact_users fu ON fu.id = interviewed.user_id\n",
    "LEFT JOIN (\n",
    "  SELECT user_id, 1 potential\n",
    "  FROM talent_events\n",
    "  WHERE props ->> 'from_status' = 'potential'\n",
    ") potl ON potl.user_id = interviewed.user_id\n"
   ]
  },
  {
   "cell_type": "code",
   "execution_count": null,
   "metadata": {},
   "outputs": [],
   "source": []
  }
 ],
 "metadata": {
  "kernelspec": {
   "display_name": "Python 3",
   "language": "python",
   "name": "python3"
  },
  "language_info": {
   "codemirror_mode": {
    "name": "ipython",
    "version": 3
   },
   "file_extension": ".py",
   "mimetype": "text/x-python",
   "name": "python",
   "nbconvert_exporter": "python",
   "pygments_lexer": "ipython3",
   "version": "3.6.5"
  }
 },
 "nbformat": 4,
 "nbformat_minor": 2
}
