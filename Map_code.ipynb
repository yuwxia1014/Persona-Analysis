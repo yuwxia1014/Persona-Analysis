{
 "cells": [
  {
   "cell_type": "markdown",
   "metadata": {},
   "source": [
    "# Talent Map\n",
    "*2018/07/27   Summer*"
   ]
  },
  {
   "cell_type": "markdown",
   "metadata": {},
   "source": [
    "\n",
    "---\n",
    "## Some Explanations\n",
    "\n",
    "- Since the average time from interview to sign contract is 5 days(from previous analysis I did), so the data are based on interview date, which is 5 days from today.\n",
    "- All data are extracted from superset, naboo.\n",
    "- It must contain some errors, please feel free to share your ideas.\n"
   ]
  },
  {
   "cell_type": "code",
   "execution_count": 3,
   "metadata": {},
   "outputs": [
    {
     "name": "stdout",
     "output_type": "stream",
     "text": [
      "High five! You successfully sent some data to your account on plotly. View your plot in your browser at https://plot.ly/~summerxia/0 or inside your plot.ly account where it is named 'User locations'\n"
     ]
    },
    {
     "data": {
      "text/html": [
       "<iframe id=\"igraph\" scrolling=\"no\" style=\"border:none;\" seamless=\"seamless\" src=\"https://plot.ly/~summerxia/0.embed\" height=\"525px\" width=\"100%\"></iframe>"
      ],
      "text/plain": [
       "<plotly.tools.PlotlyDisplay object>"
      ]
     },
     "execution_count": 3,
     "metadata": {},
     "output_type": "execute_result"
    }
   ],
   "source": [
    "import pandas as pd\n",
    "import plotly\n",
    "import plotly.plotly as py\n",
    "import plotly.graph_objs as go\n",
    "\n",
    "plotly.tools.set_credentials_file(username='summerxia', api_key='mPpSzFBTrmzhSEsABwrJ')\n",
    "\n",
    "\n",
    "csv_data = pd.read_csv('/Users/yuwei/Desktop/LoopApps/python code/analysis.csv')\n",
    "\n",
    "filtered_data = csv_data[(csv_data['lat'].notnull())\n",
    "                          & (csv_data['long'].notnull())]\n",
    "\n",
    "lat_vals = filtered_data['lat'].tolist()\n",
    "long_vals = filtered_data['long'].tolist()\n",
    "active_vals = filtered_data['active'].tolist()\n",
    "\n",
    "# inactive : black\n",
    "#color_vals = list(map(lambda x: 0.7 if x == 1 else 0, active_vals))\n",
    "# inactive : blue\n",
    "color_vals = list(map(lambda x: 0.7 if x == 1 else 0.2, active_vals))\n",
    "# inactive : grey\n",
    "#color_vals = list(map(lambda x: 0.7 if x == 1 else 0.5, active_vals))\n",
    "\n",
    "data = [\n",
    "    go.Scattermapbox(\n",
    "        lat=lat_vals,\n",
    "        lon=long_vals,\n",
    "        mode='markers',\n",
    "        marker=dict(\n",
    "            size=9,\n",
    "            #color='rgb(255, 0, 0)',\n",
    "            color=color_vals,\n",
    "            colorscale=[[0, 'rgb(0,0,0)'],\n",
    "                        [0.2, 'rgb(0, 0, 255)'],\n",
    "                        [0.5, 'rgb(47, 79, 79)'],\n",
    "                        [0.7, 'rgb(255, 0, 0)'],\n",
    "                        [1, 'rgb(255,255,255)']],\n",
    "            cmax=1,\n",
    "            cmin=0,\n",
    "            opacity=0.7\n",
    "        ),\n",
    "    )\n",
    "]\n",
    "\n",
    "layout = go.Layout(\n",
    "    autosize=True,\n",
    "    hovermode='closest',\n",
    "    mapbox=dict(\n",
    "        accesstoken='pk.eyJ1Ijoid2luZHNub3ciLCJhIjoiY2prM25xd3dtMDhweTN2bWVidGVpeGFwZCJ9.MiHqwxivv3xMmSerNUtWHg',\n",
    "        bearing=0,\n",
    "        center=dict(\n",
    "            lat=40.7410135,\n",
    "            lon=-73.9897234\n",
    "        ),\n",
    "        pitch=0,\n",
    "        zoom=10,\n",
    "    ),\n",
    ")\n",
    "\n",
    "fig = dict(data=data, layout=layout)\n",
    "py.iplot(fig, filename='User locations')\n",
    "\n"
   ]
  },
  {
   "cell_type": "code",
   "execution_count": null,
   "metadata": {},
   "outputs": [],
   "source": []
  }
 ],
 "metadata": {
  "kernelspec": {
   "display_name": "Python 3",
   "language": "python",
   "name": "python3"
  },
  "language_info": {
   "codemirror_mode": {
    "name": "ipython",
    "version": 3
   },
   "file_extension": ".py",
   "mimetype": "text/x-python",
   "name": "python",
   "nbconvert_exporter": "python",
   "pygments_lexer": "ipython3",
   "version": "3.6.5"
  }
 },
 "nbformat": 4,
 "nbformat_minor": 2
}
